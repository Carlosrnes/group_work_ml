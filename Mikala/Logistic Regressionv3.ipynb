{
 "cells": [
  {
   "cell_type": "markdown",
   "metadata": {},
   "source": [
    "<b><font size=\"6\">Logistic Regression</font><a class=\"anchor\"><a id='toc'></a></b><br>"
   ]
  },
  {
   "cell_type": "markdown",
   "metadata": {},
   "source": [
    "**Step 1:** Import the data and pandas"
   ]
  },
  {
   "cell_type": "code",
   "execution_count": 1,
   "metadata": {},
   "outputs": [],
   "source": [
    "import numpy as np\n",
    "import pandas as pd\n",
    "from sklearn.utils import shuffle\n",
    "from sklearn.model_selection import train_test_split\n",
    "import matplotlib.pyplot as plt\n",
    "import seaborn as sns\n",
    "from math import ceil\n",
    "from sklearn.metrics import confusion_matrix\n",
    "from sklearn.naive_bayes import GaussianNB\n",
    "from sklearn.metrics import accuracy_score\n",
    "from sklearn.metrics import precision_score\n",
    "from sklearn.metrics import recall_score\n",
    "from sklearn.metrics import f1_score\n",
    "from regressors import stats"
   ]
  },
  {
   "cell_type": "code",
   "execution_count": 2,
   "metadata": {},
   "outputs": [],
   "source": [
    "purchase = pd.read_csv('train.csv')\n",
    "purchase.set_index('Access_ID', inplace = True)\n",
    "#fix data types\n",
    "purchase.Type_of_Traffic = purchase.Type_of_Traffic.astype(\"str\")\n",
    "purchase.Browser = purchase.Browser.astype(\"str\")\n",
    "purchase = shuffle(purchase, random_state=0)"
   ]
  },
  {
   "cell_type": "code",
   "execution_count": 3,
   "metadata": {},
   "outputs": [
    {
     "data": {
      "text/html": [
       "<div>\n",
       "<style scoped>\n",
       "    .dataframe tbody tr th:only-of-type {\n",
       "        vertical-align: middle;\n",
       "    }\n",
       "\n",
       "    .dataframe tbody tr th {\n",
       "        vertical-align: top;\n",
       "    }\n",
       "\n",
       "    .dataframe thead th {\n",
       "        text-align: right;\n",
       "    }\n",
       "</style>\n",
       "<table border=\"1\" class=\"dataframe\">\n",
       "  <thead>\n",
       "    <tr style=\"text-align: right;\">\n",
       "      <th></th>\n",
       "      <th>Date</th>\n",
       "      <th>AccountMng_Pages</th>\n",
       "      <th>AccountMng_Duration</th>\n",
       "      <th>FAQ_Pages</th>\n",
       "      <th>FAQ_Duration</th>\n",
       "      <th>Product_Pages</th>\n",
       "      <th>Product_Duration</th>\n",
       "      <th>GoogleAnalytics_BounceRate</th>\n",
       "      <th>GoogleAnalytics_ExitRate</th>\n",
       "      <th>GoogleAnalytics_PageValue</th>\n",
       "      <th>OS</th>\n",
       "      <th>Browser</th>\n",
       "      <th>Country</th>\n",
       "      <th>Type_of_Traffic</th>\n",
       "      <th>Type_of_Visitor</th>\n",
       "      <th>Buy</th>\n",
       "    </tr>\n",
       "    <tr>\n",
       "      <th>Access_ID</th>\n",
       "      <th></th>\n",
       "      <th></th>\n",
       "      <th></th>\n",
       "      <th></th>\n",
       "      <th></th>\n",
       "      <th></th>\n",
       "      <th></th>\n",
       "      <th></th>\n",
       "      <th></th>\n",
       "      <th></th>\n",
       "      <th></th>\n",
       "      <th></th>\n",
       "      <th></th>\n",
       "      <th></th>\n",
       "      <th></th>\n",
       "      <th></th>\n",
       "    </tr>\n",
       "  </thead>\n",
       "  <tbody>\n",
       "    <tr>\n",
       "      <th>763494975</th>\n",
       "      <td>6-May-20</td>\n",
       "      <td>7</td>\n",
       "      <td>170.8333</td>\n",
       "      <td>1</td>\n",
       "      <td>39.0</td>\n",
       "      <td>4</td>\n",
       "      <td>45.3333</td>\n",
       "      <td>0.0000</td>\n",
       "      <td>0.0111</td>\n",
       "      <td>0.0000</td>\n",
       "      <td>MacOSX</td>\n",
       "      <td>2</td>\n",
       "      <td>Portugal</td>\n",
       "      <td>2</td>\n",
       "      <td>Returner</td>\n",
       "      <td>0</td>\n",
       "    </tr>\n",
       "    <tr>\n",
       "      <th>165226052</th>\n",
       "      <td>18-Sep-20</td>\n",
       "      <td>2</td>\n",
       "      <td>30.2000</td>\n",
       "      <td>0</td>\n",
       "      <td>0.0</td>\n",
       "      <td>29</td>\n",
       "      <td>630.3267</td>\n",
       "      <td>0.0067</td>\n",
       "      <td>0.0233</td>\n",
       "      <td>0.0000</td>\n",
       "      <td>Windows</td>\n",
       "      <td>2</td>\n",
       "      <td>Other</td>\n",
       "      <td>1</td>\n",
       "      <td>Returner</td>\n",
       "      <td>0</td>\n",
       "    </tr>\n",
       "    <tr>\n",
       "      <th>267110026</th>\n",
       "      <td>14-May-20</td>\n",
       "      <td>9</td>\n",
       "      <td>443.2917</td>\n",
       "      <td>1</td>\n",
       "      <td>0.0</td>\n",
       "      <td>74</td>\n",
       "      <td>3615.8892</td>\n",
       "      <td>0.0070</td>\n",
       "      <td>0.0169</td>\n",
       "      <td>1.1198</td>\n",
       "      <td>Windows</td>\n",
       "      <td>2</td>\n",
       "      <td>Spain</td>\n",
       "      <td>1</td>\n",
       "      <td>Returner</td>\n",
       "      <td>0</td>\n",
       "    </tr>\n",
       "  </tbody>\n",
       "</table>\n",
       "</div>"
      ],
      "text/plain": [
       "                Date  AccountMng_Pages  AccountMng_Duration  FAQ_Pages  \\\n",
       "Access_ID                                                                \n",
       "763494975   6-May-20                 7             170.8333          1   \n",
       "165226052  18-Sep-20                 2              30.2000          0   \n",
       "267110026  14-May-20                 9             443.2917          1   \n",
       "\n",
       "           FAQ_Duration  Product_Pages  Product_Duration  \\\n",
       "Access_ID                                                  \n",
       "763494975          39.0              4           45.3333   \n",
       "165226052           0.0             29          630.3267   \n",
       "267110026           0.0             74         3615.8892   \n",
       "\n",
       "           GoogleAnalytics_BounceRate  GoogleAnalytics_ExitRate  \\\n",
       "Access_ID                                                         \n",
       "763494975                      0.0000                    0.0111   \n",
       "165226052                      0.0067                    0.0233   \n",
       "267110026                      0.0070                    0.0169   \n",
       "\n",
       "           GoogleAnalytics_PageValue       OS Browser   Country  \\\n",
       "Access_ID                                                         \n",
       "763494975                     0.0000   MacOSX       2  Portugal   \n",
       "165226052                     0.0000  Windows       2     Other   \n",
       "267110026                     1.1198  Windows       2     Spain   \n",
       "\n",
       "          Type_of_Traffic Type_of_Visitor  Buy  \n",
       "Access_ID                                       \n",
       "763494975               2        Returner    0  \n",
       "165226052               1        Returner    0  \n",
       "267110026               1        Returner    0  "
      ]
     },
     "execution_count": 3,
     "metadata": {},
     "output_type": "execute_result"
    }
   ],
   "source": [
    "purchase.head(3)"
   ]
  },
  {
   "cell_type": "code",
   "execution_count": 4,
   "metadata": {},
   "outputs": [
    {
     "name": "stdout",
     "output_type": "stream",
     "text": [
      "<class 'pandas.core.frame.DataFrame'>\n",
      "Int64Index: 9999 entries, 763494975 to 289272922\n",
      "Data columns (total 16 columns):\n",
      " #   Column                      Non-Null Count  Dtype  \n",
      "---  ------                      --------------  -----  \n",
      " 0   Date                        9999 non-null   object \n",
      " 1   AccountMng_Pages            9999 non-null   int64  \n",
      " 2   AccountMng_Duration         9999 non-null   float64\n",
      " 3   FAQ_Pages                   9999 non-null   int64  \n",
      " 4   FAQ_Duration                9999 non-null   float64\n",
      " 5   Product_Pages               9999 non-null   int64  \n",
      " 6   Product_Duration            9999 non-null   float64\n",
      " 7   GoogleAnalytics_BounceRate  9999 non-null   float64\n",
      " 8   GoogleAnalytics_ExitRate    9999 non-null   float64\n",
      " 9   GoogleAnalytics_PageValue   9999 non-null   float64\n",
      " 10  OS                          9999 non-null   object \n",
      " 11  Browser                     9999 non-null   object \n",
      " 12  Country                     9999 non-null   object \n",
      " 13  Type_of_Traffic             9999 non-null   object \n",
      " 14  Type_of_Visitor             9999 non-null   object \n",
      " 15  Buy                         9999 non-null   int64  \n",
      "dtypes: float64(6), int64(4), object(6)\n",
      "memory usage: 1.3+ MB\n"
     ]
    }
   ],
   "source": [
    "purchase.info()"
   ]
  },
  {
   "cell_type": "code",
   "execution_count": 5,
   "metadata": {},
   "outputs": [],
   "source": [
    "num_vars=purchase.select_dtypes(include=np.number).set_index(purchase.index)"
   ]
  },
  {
   "cell_type": "markdown",
   "metadata": {},
   "source": [
    "def outliers(purchase,num_vars):\n",
    "    for variable in num_vars:\n",
    "        var_mean = purchase[variable].mean()\n",
    "        var_std = purchase[variable].std()\n",
    "        purchase=purchase.loc[purchase[variable] < var_mean + (7 * var_std)]\n",
    "        purchase=purchase.loc[purchase[variable] > var_mean - (5 * var_std)]\n",
    "    return purchase\n",
    "purchase = outliers(purchase,num_vars)"
   ]
  },
  {
   "cell_type": "code",
   "execution_count": 6,
   "metadata": {},
   "outputs": [],
   "source": [
    "#purchase = outliers(purchase,num_vars)"
   ]
  },
  {
   "cell_type": "code",
   "execution_count": 7,
   "metadata": {},
   "outputs": [],
   "source": [
    "#remove outliers\n",
    "var_mean = purchase[\"GoogleAnalytics_PageValue\"].mean()\n",
    "var_std = purchase[\"GoogleAnalytics_PageValue\"].std()\n",
    "purchase=purchase.loc[purchase[\"GoogleAnalytics_PageValue\"] < var_mean + (5 * var_std)]"
   ]
  },
  {
   "cell_type": "code",
   "execution_count": 8,
   "metadata": {},
   "outputs": [],
   "source": [
    "#balance our data\n",
    "negative = purchase.loc[purchase.Buy==0]\n",
    "positive = purchase.loc[purchase.Buy==1]\n",
    "negative_shrunk = negative[:int(1*len(positive))]\n",
    "purchase = pd.concat([positive,negative_shrunk],axis=0)\n",
    "purchase = shuffle(purchase, random_state=15)"
   ]
  },
  {
   "cell_type": "code",
   "execution_count": 9,
   "metadata": {},
   "outputs": [],
   "source": [
    "#create dummy variables\n",
    "purchase = pd.get_dummies(purchase, columns = [\"Type_of_Traffic\"])\n",
    "purchase = purchase.drop(['Type_of_Traffic_4'], axis=1)\n",
    "purchase = pd.get_dummies(purchase, columns = [\"OS\"])\n",
    "purchase = purchase.drop(['OS_Ubuntu'], axis=1)"
   ]
  },
  {
   "cell_type": "code",
   "execution_count": 10,
   "metadata": {},
   "outputs": [
    {
     "name": "stdout",
     "output_type": "stream",
     "text": [
      "<class 'pandas.core.frame.DataFrame'>\n",
      "Int64Index: 2988 entries, 787527047 to 180141442\n",
      "Data columns (total 34 columns):\n",
      " #   Column                      Non-Null Count  Dtype  \n",
      "---  ------                      --------------  -----  \n",
      " 0   Date                        2988 non-null   object \n",
      " 1   AccountMng_Pages            2988 non-null   int64  \n",
      " 2   AccountMng_Duration         2988 non-null   float64\n",
      " 3   FAQ_Pages                   2988 non-null   int64  \n",
      " 4   FAQ_Duration                2988 non-null   float64\n",
      " 5   Product_Pages               2988 non-null   int64  \n",
      " 6   Product_Duration            2988 non-null   float64\n",
      " 7   GoogleAnalytics_BounceRate  2988 non-null   float64\n",
      " 8   GoogleAnalytics_ExitRate    2988 non-null   float64\n",
      " 9   GoogleAnalytics_PageValue   2988 non-null   float64\n",
      " 10  Browser                     2988 non-null   object \n",
      " 11  Country                     2988 non-null   object \n",
      " 12  Type_of_Visitor             2988 non-null   object \n",
      " 13  Buy                         2988 non-null   int64  \n",
      " 14  Type_of_Traffic_1           2988 non-null   uint8  \n",
      " 15  Type_of_Traffic_10          2988 non-null   uint8  \n",
      " 16  Type_of_Traffic_11          2988 non-null   uint8  \n",
      " 17  Type_of_Traffic_12          2988 non-null   uint8  \n",
      " 18  Type_of_Traffic_13          2988 non-null   uint8  \n",
      " 19  Type_of_Traffic_14          2988 non-null   uint8  \n",
      " 20  Type_of_Traffic_15          2988 non-null   uint8  \n",
      " 21  Type_of_Traffic_2           2988 non-null   uint8  \n",
      " 22  Type_of_Traffic_3           2988 non-null   uint8  \n",
      " 23  Type_of_Traffic_5           2988 non-null   uint8  \n",
      " 24  Type_of_Traffic_6           2988 non-null   uint8  \n",
      " 25  Type_of_Traffic_7           2988 non-null   uint8  \n",
      " 26  Type_of_Traffic_8           2988 non-null   uint8  \n",
      " 27  Type_of_Traffic_9           2988 non-null   uint8  \n",
      " 28  OS_Android                  2988 non-null   uint8  \n",
      " 29  OS_Chrome OS                2988 non-null   uint8  \n",
      " 30  OS_MacOSX                   2988 non-null   uint8  \n",
      " 31  OS_Other                    2988 non-null   uint8  \n",
      " 32  OS_Windows                  2988 non-null   uint8  \n",
      " 33  OS_iOS                      2988 non-null   uint8  \n",
      "dtypes: float64(6), int64(4), object(4), uint8(20)\n",
      "memory usage: 408.5+ KB\n"
     ]
    }
   ],
   "source": [
    "purchase.info()"
   ]
  },
  {
   "cell_type": "markdown",
   "metadata": {},
   "source": [
    "**Step 2:** Data partition\n",
    "- Assign all the variables excluding the DepVar to the object `data`\n",
    "- Assign the dependent variable to the object `target`\n",
    "- Import the needed library to make the partition of the dataset\n",
    "- Split the data and the target to X_train, X_test, y_train, y_test, where `test_size` should be equal to 0.2, `random_state` equal to 5 the `stratify` equal to `target`"
   ]
  },
  {
   "cell_type": "code",
   "execution_count": 11,
   "metadata": {},
   "outputs": [],
   "source": [
    "data = purchase.drop(['Buy'], axis=1)\n",
    "target = purchase['Buy']\n",
    "#feature selection\n",
    "data = data.drop(['AccountMng_Duration',\"FAQ_Duration\",\"Product_Duration\",\"Browser\",\"Country\"], axis=1)\n",
    "#data = data.filter([\"GoogleAnalytics_ExitRate\",\"GoogleAnalytics_PageValue\",\"\"])\n",
    "#data"
   ]
  },
  {
   "cell_type": "code",
   "execution_count": 12,
   "metadata": {},
   "outputs": [],
   "source": [
    "#make the split here\n",
    "X_train, X_val, y_train, y_val = train_test_split(data, target, test_size=0.35, random_state=6)"
   ]
  },
  {
   "cell_type": "code",
   "execution_count": 13,
   "metadata": {},
   "outputs": [],
   "source": [
    "#separate numeric and non-numeric\n",
    "X_train_num = X_train.select_dtypes(include=np.number).set_index(X_train.index)\n",
    "X_train_cat = X_train.select_dtypes(exclude=np.number).set_index(X_train.index)\n",
    "# DO IT for validation\n",
    "X_val_num = X_val.select_dtypes(include=np.number).set_index(X_val.index)\n",
    "X_val_cat = X_val.select_dtypes(exclude=np.number).set_index(X_val.index)"
   ]
  },
  {
   "cell_type": "code",
   "execution_count": 14,
   "metadata": {},
   "outputs": [],
   "source": [
    "from sklearn.preprocessing import MinMaxScaler\n",
    "scaler = MinMaxScaler().fit(X_train_num)\n",
    "X_train_num_scaled = scaler.transform(X_train_num) # this will return an array\n",
    "# Convert the array to a pandas dataframe\n",
    "X_train_num_scaled = pd.DataFrame(X_train_num_scaled, columns = X_train_num.columns).set_index(X_train.index)\n",
    "X_train_num_scaled.head(3)\n",
    "X_val_num_scaled = scaler.transform(X_val_num)\n",
    "X_val_num_scaled = pd.DataFrame(X_val_num_scaled, columns = X_val_num.columns).set_index(X_val.index)\n",
    "#X_val_num_scaled.head(3)"
   ]
  },
  {
   "cell_type": "markdown",
   "metadata": {},
   "source": [
    "**Step 3:** Import the model and create an instance"
   ]
  },
  {
   "cell_type": "code",
   "execution_count": 15,
   "metadata": {},
   "outputs": [],
   "source": [
    "from sklearn.linear_model import LogisticRegression\n",
    "modelLog = LogisticRegression(max_iter=1000) "
   ]
  },
  {
   "cell_type": "markdown",
   "metadata": {},
   "source": [
    "**Step 4:** Fit the model to the train data"
   ]
  },
  {
   "cell_type": "code",
   "execution_count": 16,
   "metadata": {},
   "outputs": [
    {
     "data": {
      "text/plain": [
       "LogisticRegression(max_iter=1000)"
      ]
     },
     "execution_count": 16,
     "metadata": {},
     "output_type": "execute_result"
    }
   ],
   "source": [
    "modelLog.fit(X_train_num,y_train)"
   ]
  },
  {
   "cell_type": "markdown",
   "metadata": {},
   "source": [
    "**Step 5:** Use the model to predict the labels of the test data. Assign them to **y_pred**."
   ]
  },
  {
   "cell_type": "code",
   "execution_count": 17,
   "metadata": {},
   "outputs": [
    {
     "data": {
      "text/plain": [
       "array([0, 0, 0, ..., 0, 0, 0], dtype=int64)"
      ]
     },
     "execution_count": 17,
     "metadata": {},
     "output_type": "execute_result"
    }
   ],
   "source": [
    "labels_train = modelLog.predict(X_train_num)\n",
    "labels_train"
   ]
  },
  {
   "cell_type": "code",
   "execution_count": 18,
   "metadata": {},
   "outputs": [
    {
     "data": {
      "text/plain": [
       "array([[0.25834855, 0.74165145],\n",
       "       [0.50427683, 0.49572317],\n",
       "       [0.69164874, 0.30835126],\n",
       "       ...,\n",
       "       [0.27545172, 0.72454828],\n",
       "       [0.51037959, 0.48962041],\n",
       "       [0.75160778, 0.24839222]])"
      ]
     },
     "execution_count": 18,
     "metadata": {},
     "output_type": "execute_result"
    }
   ],
   "source": [
    "y_pred = modelLog.predict(X_val_num)\n",
    "y_pred\n",
    "pred_prob = modelLog.predict_proba(X_val_num)\n",
    "pred_prob"
   ]
  },
  {
   "cell_type": "markdown",
   "metadata": {},
   "source": [
    "**Step 6:** Evaluate the model"
   ]
  },
  {
   "cell_type": "code",
   "execution_count": null,
   "metadata": {},
   "outputs": [],
   "source": [
    "#accuracy_score(y_val,y_pred)\n",
    "#precision_score(y_val,y_pred)\n",
    "#recall_score(y_val,y_pred)"
   ]
  },
  {
   "cell_type": "markdown",
   "metadata": {},
   "source": [
    "The confusion matrix in sklearn is presented in the following format: <br>\n",
    "[ [ TN  FP  ] <br>\n",
    "    [ FN  TP ] ]"
   ]
  },
  {
   "cell_type": "code",
   "execution_count": 19,
   "metadata": {},
   "outputs": [
    {
     "data": {
      "text/plain": [
       "array([[447,  58],\n",
       "       [130, 411]], dtype=int64)"
      ]
     },
     "execution_count": 19,
     "metadata": {},
     "output_type": "execute_result"
    }
   ],
   "source": [
    "confusion_matrix(y_val,y_pred)"
   ]
  },
  {
   "cell_type": "markdown",
   "metadata": {},
   "source": [
    " # The F1 Scores"
   ]
  },
  {
   "cell_type": "code",
   "execution_count": 20,
   "metadata": {},
   "outputs": [
    {
     "data": {
      "text/plain": [
       "0.7794871794871796"
      ]
     },
     "execution_count": 20,
     "metadata": {},
     "output_type": "execute_result"
    }
   ],
   "source": [
    "# train data\n",
    "f1_score(y_train,labels_train)"
   ]
  },
  {
   "cell_type": "code",
   "execution_count": 21,
   "metadata": {},
   "outputs": [
    {
     "data": {
      "text/plain": [
       "0.8138613861386139"
      ]
     },
     "execution_count": 21,
     "metadata": {},
     "output_type": "execute_result"
    }
   ],
   "source": [
    "# validation data\n",
    "f1_score(y_val,y_pred)"
   ]
  },
  {
   "cell_type": "markdown",
   "metadata": {},
   "source": [
    "# Submitting to Kaggle"
   ]
  },
  {
   "cell_type": "code",
   "execution_count": 37,
   "metadata": {},
   "outputs": [],
   "source": [
    "purchase_test = pd.read_csv('test.csv')\n",
    "purchase_test.set_index('Access_ID', inplace = True)\n",
    "#fix data types\n",
    "purchase_test.Type_of_Traffic = purchase_test.Type_of_Traffic.astype(\"str\")\n",
    "purchase_test.Browser = purchase_test.Browser.astype(\"str\")"
   ]
  },
  {
   "cell_type": "code",
   "execution_count": 38,
   "metadata": {},
   "outputs": [
    {
     "name": "stdout",
     "output_type": "stream",
     "text": [
      "<class 'pandas.core.frame.DataFrame'>\n",
      "Int64Index: 2300 entries, 798519314 to 962218682\n",
      "Data columns (total 15 columns):\n",
      " #   Column                      Non-Null Count  Dtype  \n",
      "---  ------                      --------------  -----  \n",
      " 0   Date                        2300 non-null   object \n",
      " 1   AccountMng_Pages            2300 non-null   int64  \n",
      " 2   AccountMng_Duration         2300 non-null   float64\n",
      " 3   FAQ_Pages                   2300 non-null   int64  \n",
      " 4   FAQ_Duration                2300 non-null   float64\n",
      " 5   Product_Pages               2300 non-null   int64  \n",
      " 6   Product_Duration            2300 non-null   float64\n",
      " 7   GoogleAnalytics_BounceRate  2300 non-null   float64\n",
      " 8   GoogleAnalytics_ExitRate    2300 non-null   float64\n",
      " 9   GoogleAnalytics_PageValue   2300 non-null   float64\n",
      " 10  OS                          2300 non-null   object \n",
      " 11  Browser                     2300 non-null   object \n",
      " 12  Country                     2300 non-null   object \n",
      " 13  Type_of_Traffic             2300 non-null   object \n",
      " 14  Type_of_Visitor             2300 non-null   object \n",
      "dtypes: float64(6), int64(3), object(6)\n",
      "memory usage: 287.5+ KB\n"
     ]
    }
   ],
   "source": [
    "purchase_test.info()"
   ]
  },
  {
   "cell_type": "code",
   "execution_count": 39,
   "metadata": {
    "scrolled": true
   },
   "outputs": [],
   "source": [
    "purchase_test = pd.get_dummies(purchase_test, columns = [\"Type_of_Traffic\"])\n",
    "purchase_test = purchase_test.drop(['Type_of_Traffic_4'], axis=1)\n",
    "purchase_test = pd.get_dummies(purchase_test, columns = [\"OS\"])\n",
    "purchase_test = purchase_test.drop(['OS_Ubuntu'], axis=1)\n",
    "purchase_test = purchase_test.drop(['OS_Other'], axis=1)"
   ]
  },
  {
   "cell_type": "code",
   "execution_count": 40,
   "metadata": {},
   "outputs": [],
   "source": [
    "#feature selection\n",
    "purchase_test = purchase_test.drop(['AccountMng_Duration',\"FAQ_Duration\",\"Product_Duration\",\"Browser\",\"Country\"], axis=1)"
   ]
  },
  {
   "cell_type": "code",
   "execution_count": 41,
   "metadata": {},
   "outputs": [],
   "source": [
    "X_test_num = purchase_test.select_dtypes(include=np.number).set_index(purchase_test.index)"
   ]
  },
  {
   "cell_type": "code",
   "execution_count": 42,
   "metadata": {},
   "outputs": [
    {
     "data": {
      "text/html": [
       "<div>\n",
       "<style scoped>\n",
       "    .dataframe tbody tr th:only-of-type {\n",
       "        vertical-align: middle;\n",
       "    }\n",
       "\n",
       "    .dataframe tbody tr th {\n",
       "        vertical-align: top;\n",
       "    }\n",
       "\n",
       "    .dataframe thead th {\n",
       "        text-align: right;\n",
       "    }\n",
       "</style>\n",
       "<table border=\"1\" class=\"dataframe\">\n",
       "  <thead>\n",
       "    <tr style=\"text-align: right;\">\n",
       "      <th></th>\n",
       "      <th>AccountMng_Pages</th>\n",
       "      <th>FAQ_Pages</th>\n",
       "      <th>Product_Pages</th>\n",
       "      <th>GoogleAnalytics_BounceRate</th>\n",
       "      <th>GoogleAnalytics_ExitRate</th>\n",
       "      <th>GoogleAnalytics_PageValue</th>\n",
       "      <th>Type_of_Traffic_1</th>\n",
       "      <th>Type_of_Traffic_10</th>\n",
       "      <th>Type_of_Traffic_11</th>\n",
       "      <th>Type_of_Traffic_12</th>\n",
       "      <th>...</th>\n",
       "      <th>Type_of_Traffic_6</th>\n",
       "      <th>Type_of_Traffic_7</th>\n",
       "      <th>Type_of_Traffic_8</th>\n",
       "      <th>Type_of_Traffic_9</th>\n",
       "      <th>OS_Android</th>\n",
       "      <th>OS_Chrome OS</th>\n",
       "      <th>OS_Fedora</th>\n",
       "      <th>OS_MacOSX</th>\n",
       "      <th>OS_Windows</th>\n",
       "      <th>OS_iOS</th>\n",
       "    </tr>\n",
       "    <tr>\n",
       "      <th>Access_ID</th>\n",
       "      <th></th>\n",
       "      <th></th>\n",
       "      <th></th>\n",
       "      <th></th>\n",
       "      <th></th>\n",
       "      <th></th>\n",
       "      <th></th>\n",
       "      <th></th>\n",
       "      <th></th>\n",
       "      <th></th>\n",
       "      <th></th>\n",
       "      <th></th>\n",
       "      <th></th>\n",
       "      <th></th>\n",
       "      <th></th>\n",
       "      <th></th>\n",
       "      <th></th>\n",
       "      <th></th>\n",
       "      <th></th>\n",
       "      <th></th>\n",
       "      <th></th>\n",
       "    </tr>\n",
       "  </thead>\n",
       "  <tbody>\n",
       "    <tr>\n",
       "      <th>798519314</th>\n",
       "      <td>0</td>\n",
       "      <td>0</td>\n",
       "      <td>86</td>\n",
       "      <td>0.0139</td>\n",
       "      <td>0.0654</td>\n",
       "      <td>0.0000</td>\n",
       "      <td>1</td>\n",
       "      <td>0</td>\n",
       "      <td>0</td>\n",
       "      <td>0</td>\n",
       "      <td>...</td>\n",
       "      <td>0</td>\n",
       "      <td>0</td>\n",
       "      <td>0</td>\n",
       "      <td>0</td>\n",
       "      <td>0</td>\n",
       "      <td>0</td>\n",
       "      <td>0</td>\n",
       "      <td>0</td>\n",
       "      <td>1</td>\n",
       "      <td>0</td>\n",
       "    </tr>\n",
       "    <tr>\n",
       "      <th>798663101</th>\n",
       "      <td>2</td>\n",
       "      <td>0</td>\n",
       "      <td>55</td>\n",
       "      <td>0.0012</td>\n",
       "      <td>0.0058</td>\n",
       "      <td>0.0000</td>\n",
       "      <td>0</td>\n",
       "      <td>0</td>\n",
       "      <td>0</td>\n",
       "      <td>0</td>\n",
       "      <td>...</td>\n",
       "      <td>0</td>\n",
       "      <td>0</td>\n",
       "      <td>0</td>\n",
       "      <td>0</td>\n",
       "      <td>1</td>\n",
       "      <td>0</td>\n",
       "      <td>0</td>\n",
       "      <td>0</td>\n",
       "      <td>0</td>\n",
       "      <td>0</td>\n",
       "    </tr>\n",
       "    <tr>\n",
       "      <th>798663221</th>\n",
       "      <td>0</td>\n",
       "      <td>0</td>\n",
       "      <td>36</td>\n",
       "      <td>0.0000</td>\n",
       "      <td>0.0250</td>\n",
       "      <td>0.0000</td>\n",
       "      <td>0</td>\n",
       "      <td>0</td>\n",
       "      <td>0</td>\n",
       "      <td>0</td>\n",
       "      <td>...</td>\n",
       "      <td>0</td>\n",
       "      <td>0</td>\n",
       "      <td>0</td>\n",
       "      <td>0</td>\n",
       "      <td>0</td>\n",
       "      <td>0</td>\n",
       "      <td>0</td>\n",
       "      <td>0</td>\n",
       "      <td>1</td>\n",
       "      <td>0</td>\n",
       "    </tr>\n",
       "    <tr>\n",
       "      <th>798760918</th>\n",
       "      <td>0</td>\n",
       "      <td>0</td>\n",
       "      <td>2</td>\n",
       "      <td>0.0000</td>\n",
       "      <td>0.1000</td>\n",
       "      <td>0.0000</td>\n",
       "      <td>0</td>\n",
       "      <td>0</td>\n",
       "      <td>0</td>\n",
       "      <td>0</td>\n",
       "      <td>...</td>\n",
       "      <td>0</td>\n",
       "      <td>0</td>\n",
       "      <td>0</td>\n",
       "      <td>0</td>\n",
       "      <td>0</td>\n",
       "      <td>0</td>\n",
       "      <td>0</td>\n",
       "      <td>0</td>\n",
       "      <td>1</td>\n",
       "      <td>0</td>\n",
       "    </tr>\n",
       "    <tr>\n",
       "      <th>798856982</th>\n",
       "      <td>12</td>\n",
       "      <td>1</td>\n",
       "      <td>129</td>\n",
       "      <td>0.0014</td>\n",
       "      <td>0.0185</td>\n",
       "      <td>1.0353</td>\n",
       "      <td>0</td>\n",
       "      <td>1</td>\n",
       "      <td>0</td>\n",
       "      <td>0</td>\n",
       "      <td>...</td>\n",
       "      <td>0</td>\n",
       "      <td>0</td>\n",
       "      <td>0</td>\n",
       "      <td>0</td>\n",
       "      <td>0</td>\n",
       "      <td>0</td>\n",
       "      <td>0</td>\n",
       "      <td>0</td>\n",
       "      <td>1</td>\n",
       "      <td>0</td>\n",
       "    </tr>\n",
       "    <tr>\n",
       "      <th>...</th>\n",
       "      <td>...</td>\n",
       "      <td>...</td>\n",
       "      <td>...</td>\n",
       "      <td>...</td>\n",
       "      <td>...</td>\n",
       "      <td>...</td>\n",
       "      <td>...</td>\n",
       "      <td>...</td>\n",
       "      <td>...</td>\n",
       "      <td>...</td>\n",
       "      <td>...</td>\n",
       "      <td>...</td>\n",
       "      <td>...</td>\n",
       "      <td>...</td>\n",
       "      <td>...</td>\n",
       "      <td>...</td>\n",
       "      <td>...</td>\n",
       "      <td>...</td>\n",
       "      <td>...</td>\n",
       "      <td>...</td>\n",
       "      <td>...</td>\n",
       "    </tr>\n",
       "    <tr>\n",
       "      <th>962042726</th>\n",
       "      <td>10</td>\n",
       "      <td>2</td>\n",
       "      <td>220</td>\n",
       "      <td>0.0048</td>\n",
       "      <td>0.0221</td>\n",
       "      <td>0.0000</td>\n",
       "      <td>1</td>\n",
       "      <td>0</td>\n",
       "      <td>0</td>\n",
       "      <td>0</td>\n",
       "      <td>...</td>\n",
       "      <td>0</td>\n",
       "      <td>0</td>\n",
       "      <td>0</td>\n",
       "      <td>0</td>\n",
       "      <td>0</td>\n",
       "      <td>0</td>\n",
       "      <td>0</td>\n",
       "      <td>0</td>\n",
       "      <td>1</td>\n",
       "      <td>0</td>\n",
       "    </tr>\n",
       "    <tr>\n",
       "      <th>962063064</th>\n",
       "      <td>0</td>\n",
       "      <td>0</td>\n",
       "      <td>3</td>\n",
       "      <td>0.0667</td>\n",
       "      <td>0.1000</td>\n",
       "      <td>0.0000</td>\n",
       "      <td>0</td>\n",
       "      <td>0</td>\n",
       "      <td>0</td>\n",
       "      <td>0</td>\n",
       "      <td>...</td>\n",
       "      <td>0</td>\n",
       "      <td>0</td>\n",
       "      <td>0</td>\n",
       "      <td>0</td>\n",
       "      <td>0</td>\n",
       "      <td>0</td>\n",
       "      <td>0</td>\n",
       "      <td>1</td>\n",
       "      <td>0</td>\n",
       "      <td>0</td>\n",
       "    </tr>\n",
       "    <tr>\n",
       "      <th>962147749</th>\n",
       "      <td>2</td>\n",
       "      <td>0</td>\n",
       "      <td>22</td>\n",
       "      <td>0.0000</td>\n",
       "      <td>0.0250</td>\n",
       "      <td>9.6503</td>\n",
       "      <td>0</td>\n",
       "      <td>0</td>\n",
       "      <td>1</td>\n",
       "      <td>0</td>\n",
       "      <td>...</td>\n",
       "      <td>0</td>\n",
       "      <td>0</td>\n",
       "      <td>0</td>\n",
       "      <td>0</td>\n",
       "      <td>0</td>\n",
       "      <td>0</td>\n",
       "      <td>0</td>\n",
       "      <td>0</td>\n",
       "      <td>1</td>\n",
       "      <td>0</td>\n",
       "    </tr>\n",
       "    <tr>\n",
       "      <th>962182167</th>\n",
       "      <td>8</td>\n",
       "      <td>0</td>\n",
       "      <td>9</td>\n",
       "      <td>0.0167</td>\n",
       "      <td>0.0500</td>\n",
       "      <td>0.0000</td>\n",
       "      <td>0</td>\n",
       "      <td>0</td>\n",
       "      <td>0</td>\n",
       "      <td>0</td>\n",
       "      <td>...</td>\n",
       "      <td>0</td>\n",
       "      <td>0</td>\n",
       "      <td>0</td>\n",
       "      <td>0</td>\n",
       "      <td>0</td>\n",
       "      <td>0</td>\n",
       "      <td>0</td>\n",
       "      <td>0</td>\n",
       "      <td>1</td>\n",
       "      <td>0</td>\n",
       "    </tr>\n",
       "    <tr>\n",
       "      <th>962218682</th>\n",
       "      <td>1</td>\n",
       "      <td>0</td>\n",
       "      <td>27</td>\n",
       "      <td>0.0214</td>\n",
       "      <td>0.0367</td>\n",
       "      <td>0.0000</td>\n",
       "      <td>0</td>\n",
       "      <td>0</td>\n",
       "      <td>0</td>\n",
       "      <td>0</td>\n",
       "      <td>...</td>\n",
       "      <td>0</td>\n",
       "      <td>0</td>\n",
       "      <td>0</td>\n",
       "      <td>0</td>\n",
       "      <td>0</td>\n",
       "      <td>0</td>\n",
       "      <td>0</td>\n",
       "      <td>1</td>\n",
       "      <td>0</td>\n",
       "      <td>0</td>\n",
       "    </tr>\n",
       "  </tbody>\n",
       "</table>\n",
       "<p>2300 rows × 26 columns</p>\n",
       "</div>"
      ],
      "text/plain": [
       "           AccountMng_Pages  FAQ_Pages  Product_Pages  \\\n",
       "Access_ID                                               \n",
       "798519314                 0          0             86   \n",
       "798663101                 2          0             55   \n",
       "798663221                 0          0             36   \n",
       "798760918                 0          0              2   \n",
       "798856982                12          1            129   \n",
       "...                     ...        ...            ...   \n",
       "962042726                10          2            220   \n",
       "962063064                 0          0              3   \n",
       "962147749                 2          0             22   \n",
       "962182167                 8          0              9   \n",
       "962218682                 1          0             27   \n",
       "\n",
       "           GoogleAnalytics_BounceRate  GoogleAnalytics_ExitRate  \\\n",
       "Access_ID                                                         \n",
       "798519314                      0.0139                    0.0654   \n",
       "798663101                      0.0012                    0.0058   \n",
       "798663221                      0.0000                    0.0250   \n",
       "798760918                      0.0000                    0.1000   \n",
       "798856982                      0.0014                    0.0185   \n",
       "...                               ...                       ...   \n",
       "962042726                      0.0048                    0.0221   \n",
       "962063064                      0.0667                    0.1000   \n",
       "962147749                      0.0000                    0.0250   \n",
       "962182167                      0.0167                    0.0500   \n",
       "962218682                      0.0214                    0.0367   \n",
       "\n",
       "           GoogleAnalytics_PageValue  Type_of_Traffic_1  Type_of_Traffic_10  \\\n",
       "Access_ID                                                                     \n",
       "798519314                     0.0000                  1                   0   \n",
       "798663101                     0.0000                  0                   0   \n",
       "798663221                     0.0000                  0                   0   \n",
       "798760918                     0.0000                  0                   0   \n",
       "798856982                     1.0353                  0                   1   \n",
       "...                              ...                ...                 ...   \n",
       "962042726                     0.0000                  1                   0   \n",
       "962063064                     0.0000                  0                   0   \n",
       "962147749                     9.6503                  0                   0   \n",
       "962182167                     0.0000                  0                   0   \n",
       "962218682                     0.0000                  0                   0   \n",
       "\n",
       "           Type_of_Traffic_11  Type_of_Traffic_12  ...  Type_of_Traffic_6  \\\n",
       "Access_ID                                          ...                      \n",
       "798519314                   0                   0  ...                  0   \n",
       "798663101                   0                   0  ...                  0   \n",
       "798663221                   0                   0  ...                  0   \n",
       "798760918                   0                   0  ...                  0   \n",
       "798856982                   0                   0  ...                  0   \n",
       "...                       ...                 ...  ...                ...   \n",
       "962042726                   0                   0  ...                  0   \n",
       "962063064                   0                   0  ...                  0   \n",
       "962147749                   1                   0  ...                  0   \n",
       "962182167                   0                   0  ...                  0   \n",
       "962218682                   0                   0  ...                  0   \n",
       "\n",
       "           Type_of_Traffic_7  Type_of_Traffic_8  Type_of_Traffic_9  \\\n",
       "Access_ID                                                            \n",
       "798519314                  0                  0                  0   \n",
       "798663101                  0                  0                  0   \n",
       "798663221                  0                  0                  0   \n",
       "798760918                  0                  0                  0   \n",
       "798856982                  0                  0                  0   \n",
       "...                      ...                ...                ...   \n",
       "962042726                  0                  0                  0   \n",
       "962063064                  0                  0                  0   \n",
       "962147749                  0                  0                  0   \n",
       "962182167                  0                  0                  0   \n",
       "962218682                  0                  0                  0   \n",
       "\n",
       "           OS_Android  OS_Chrome OS  OS_Fedora  OS_MacOSX  OS_Windows  OS_iOS  \n",
       "Access_ID                                                                      \n",
       "798519314           0             0          0          0           1       0  \n",
       "798663101           1             0          0          0           0       0  \n",
       "798663221           0             0          0          0           1       0  \n",
       "798760918           0             0          0          0           1       0  \n",
       "798856982           0             0          0          0           1       0  \n",
       "...               ...           ...        ...        ...         ...     ...  \n",
       "962042726           0             0          0          0           1       0  \n",
       "962063064           0             0          0          1           0       0  \n",
       "962147749           0             0          0          0           1       0  \n",
       "962182167           0             0          0          0           1       0  \n",
       "962218682           0             0          0          1           0       0  \n",
       "\n",
       "[2300 rows x 26 columns]"
      ]
     },
     "execution_count": 42,
     "metadata": {},
     "output_type": "execute_result"
    }
   ],
   "source": [
    "X_test_num"
   ]
  },
  {
   "cell_type": "code",
   "execution_count": 43,
   "metadata": {},
   "outputs": [
    {
     "data": {
      "text/plain": [
       "array([0, 0, 0, ..., 1, 0, 0], dtype=int64)"
      ]
     },
     "execution_count": 43,
     "metadata": {},
     "output_type": "execute_result"
    }
   ],
   "source": [
    "y_pred =  modelLog.predict(X_test_num)\n",
    "y_pred"
   ]
  },
  {
   "cell_type": "code",
   "execution_count": 44,
   "metadata": {},
   "outputs": [],
   "source": [
    "submission = pd.DataFrame([X_test_num.index,y_pred]).T"
   ]
  },
  {
   "cell_type": "code",
   "execution_count": 37,
   "metadata": {},
   "outputs": [],
   "source": [
    "submission.to_csv(\"submissiontest.csv\")"
   ]
  },
  {
   "cell_type": "code",
   "execution_count": null,
   "metadata": {},
   "outputs": [],
   "source": [
    "#data submitted to Kaggle was an F1 score of only .66"
   ]
  }
 ],
 "metadata": {
  "kernelspec": {
   "display_name": "Python 3",
   "language": "python",
   "name": "python3"
  },
  "language_info": {
   "codemirror_mode": {
    "name": "ipython",
    "version": 3
   },
   "file_extension": ".py",
   "mimetype": "text/x-python",
   "name": "python",
   "nbconvert_exporter": "python",
   "pygments_lexer": "ipython3",
   "version": "3.8.8"
  }
 },
 "nbformat": 4,
 "nbformat_minor": 2
}
