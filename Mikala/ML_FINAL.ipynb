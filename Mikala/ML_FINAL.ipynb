{
 "cells": [
  {
   "cell_type": "code",
   "execution_count": 147,
   "id": "2fe6d2c9",
   "metadata": {},
   "outputs": [],
   "source": [
    "import numpy as np\n",
    "import pandas as pd\n",
    "import random\n",
    "import matplotlib.pyplot as plt\n",
    "import seaborn as sns\n",
    "from statistics import mean, stdev\n",
    "\n",
    "# data partition\n",
    "from sklearn.model_selection import train_test_split\n",
    "from sklearn.preprocessing import PowerTransformer\n",
    "\n",
    "# models\n",
    "from sklearn.linear_model import LogisticRegression\n",
    "from sklearn.ensemble import BaggingClassifier\n",
    "from sklearn.linear_model import LassoCV\n",
    "\n",
    "from sklearn.feature_selection import RFE\n",
    "\n",
    "# metric\n",
    "from sklearn.metrics import confusion_matrix\n",
    "from sklearn.metrics import accuracy_score\n",
    "from sklearn.metrics import precision_score\n",
    "from sklearn.metrics import recall_score\n",
    "from sklearn.metrics import f1_score\n",
    "from sklearn.metrics import precision_recall_curve\n",
    "\n",
    "# oversampling\n",
    "from imblearn.over_sampling import RandomOverSampler\n",
    "\n",
    "# Kfold\n",
    "from sklearn.model_selection import StratifiedKFold\n",
    "\n",
    "# scale\n",
    "from sklearn.preprocessing import MinMaxScaler\n",
    "\n",
    "import warnings\n",
    "warnings.filterwarnings('ignore')"
   ]
  },
  {
   "cell_type": "markdown",
   "id": "3bd9c8eb",
   "metadata": {},
   "source": [
    "## Preprocessing"
   ]
  },
  {
   "cell_type": "code",
   "execution_count": 148,
   "id": "2c1fb1d4",
   "metadata": {},
   "outputs": [],
   "source": [
    "# open the dataset\n",
    "df = pd.read_csv('train.csv')"
   ]
  },
  {
   "cell_type": "code",
   "execution_count": 149,
   "id": "2e919ed7",
   "metadata": {},
   "outputs": [],
   "source": [
    "# data types transformation\n",
    "# Converting Date type from object to datetime\n",
    "df['Date'] = pd.to_datetime(df['Date'], format='%d-%b-%y')\n",
    "df[\"Month\"]=df[\"Date\"].map(lambda x: x.month)\n",
    "df[\"Months_high\"]=df[\"Month\"].map(lambda x: 1 if x>7 & x<12 else 0)"
   ]
  },
  {
   "cell_type": "markdown",
   "id": "f834163c",
   "metadata": {},
   "source": [
    "## New features"
   ]
  },
  {
   "cell_type": "code",
   "execution_count": 150,
   "id": "79d565a4",
   "metadata": {},
   "outputs": [],
   "source": [
    "# 0 - PC/ 1 - Mobile\n",
    "dict_os = {'MacOSX': 0, 'Windows': 1, 'Android': 0, 'Ubuntu': 0, 'iOS': 0, 'Other': 0, 'Fedora': 0, 'Chrome OS':0}\n",
    "df['OS_window'] = df['OS'].map(dict_os)"
   ]
  },
  {
   "cell_type": "code",
   "execution_count": 151,
   "id": "f43902e8",
   "metadata": {},
   "outputs": [],
   "source": [
    "# 0 - Returner/ 1 - New_Access/ 2 - Other\n",
    "dict_visitor = {'Returner': 0, 'New_Access': 1, 'Other': 0}\n",
    "df['Type_of_Visitor_new'] = df['Type_of_Visitor'].map(dict_visitor)\n",
    "dict_visitor = {'Returner': 1, 'New_Access': 0, 'Other': 0}\n",
    "df['Type_of_Visitor_return'] = df['Type_of_Visitor'].map(dict_visitor)"
   ]
  },
  {
   "cell_type": "code",
   "execution_count": 152,
   "id": "925b9cf4",
   "metadata": {},
   "outputs": [
    {
     "data": {
      "text/plain": [
       "0    9528\n",
       "1     471\n",
       "Name: Type_of_Traffic_high, dtype: int64"
      ]
     },
     "execution_count": 152,
     "metadata": {},
     "output_type": "execute_result"
    }
   ],
   "source": [
    "df[\"Type_of_Traffic_high\"]=df[\"Type_of_Traffic\"].map(lambda x: 1 if (x in [7,8,15]) else 0)\n",
    "df[\"Type_of_Traffic_med\"]=df[\"Type_of_Traffic\"].map(lambda x: 1 if (x in [10,11,2,5]) else 0)\n",
    "df[\"Type_of_Traffic_high\"].value_counts()"
   ]
  },
  {
   "cell_type": "markdown",
   "id": "9037f79c",
   "metadata": {},
   "source": [
    "## Remove Outliers"
   ]
  },
  {
   "cell_type": "code",
   "execution_count": 153,
   "id": "dc044f5a",
   "metadata": {},
   "outputs": [
    {
     "name": "stdout",
     "output_type": "stream",
     "text": [
      "Percentage of data kept after removing outliers: 0.9998\n"
     ]
    }
   ],
   "source": [
    "# trashold for outliers\n",
    "filters2 = (\n",
    "    (df['GoogleAnalytics_PageValue']<=350)\n",
    "#    &(df['GoogleAnalytics_ExitRate']<.2)\n",
    ")\n",
    "\n",
    "df_1 = df[filters2]\n",
    "\n",
    "print('Percentage of data kept after removing outliers:', np.round(df_1.shape[0] / df.shape[0], 4))"
   ]
  },
  {
   "cell_type": "markdown",
   "id": "ef26bd46",
   "metadata": {},
   "source": [
    "# Choosing final features"
   ]
  },
  {
   "cell_type": "code",
   "execution_count": 154,
   "id": "3a7ef054",
   "metadata": {},
   "outputs": [
    {
     "data": {
      "text/plain": [
       "Index(['Access_ID', 'Date', 'AccountMng_Pages', 'AccountMng_Duration',\n",
       "       'FAQ_Pages', 'FAQ_Duration', 'Product_Pages', 'Product_Duration',\n",
       "       'GoogleAnalytics_BounceRate', 'GoogleAnalytics_ExitRate',\n",
       "       'GoogleAnalytics_PageValue', 'OS', 'Browser', 'Country',\n",
       "       'Type_of_Traffic', 'Type_of_Visitor', 'Buy', 'Month', 'Months_high',\n",
       "       'OS_window', 'Type_of_Visitor_new', 'Type_of_Visitor_return',\n",
       "       'Type_of_Traffic_high', 'Type_of_Traffic_med'],\n",
       "      dtype='object')"
      ]
     },
     "execution_count": 154,
     "metadata": {},
     "output_type": "execute_result"
    }
   ],
   "source": [
    "df.columns"
   ]
  },
  {
   "cell_type": "code",
   "execution_count": null,
   "id": "305a78c7",
   "metadata": {},
   "outputs": [],
   "source": [
    "# .69 score on kaggle\n",
    "# df_log3 = df[[\"Months_high\",\"Type_of_Visitor_new\",'GoogleAnalytics_ExitRate', 'GoogleAnalytics_PageValue',\"Buy\"]]\n",
    "# undersampling of length 4. \n",
    "# exit rate and page value both power transformed\n",
    "# with outlier threshold of 350 only for page value"
   ]
  },
  {
   "cell_type": "code",
   "execution_count": 155,
   "id": "f19b4c0a",
   "metadata": {},
   "outputs": [],
   "source": [
    "df_log3 = df[[\"Months_high\",\"Type_of_Visitor_new\",'GoogleAnalytics_ExitRate',  'GoogleAnalytics_PageValue',\"Buy\"]]"
   ]
  },
  {
   "cell_type": "code",
   "execution_count": 108,
   "id": "75a353bc",
   "metadata": {},
   "outputs": [],
   "source": [
    "#df_log4 = df[[\"Type_of_Visitor_new\",'GoogleAnalytics_ExitRate',  'GoogleAnalytics_PageValue',\"Buy\"]]"
   ]
  },
  {
   "cell_type": "code",
   "execution_count": 157,
   "id": "15159ce7",
   "metadata": {},
   "outputs": [],
   "source": [
    "X = df_log3.drop('Buy', axis=1)\n",
    "y = df_log3['Buy']"
   ]
  },
  {
   "cell_type": "markdown",
   "id": "9c9e6fa2",
   "metadata": {},
   "source": [
    "## Balance the training set - test Oversampling"
   ]
  },
  {
   "cell_type": "code",
   "execution_count": 158,
   "id": "cecbfca2",
   "metadata": {},
   "outputs": [],
   "source": [
    "# split the dataset\n",
    "X_train, X_val, y_train, y_val = train_test_split(X, y, test_size=0.25, random_state=5, stratify=y)"
   ]
  },
  {
   "cell_type": "code",
   "execution_count": 159,
   "id": "80f24867",
   "metadata": {},
   "outputs": [
    {
     "name": "stdout",
     "output_type": "stream",
     "text": [
      "X: (7499, 4)\n",
      "y: (7499,)\n"
     ]
    },
    {
     "data": {
      "text/plain": [
       "0    6335\n",
       "1    1164\n",
       "Name: Buy, dtype: int64"
      ]
     },
     "execution_count": 159,
     "metadata": {},
     "output_type": "execute_result"
    }
   ],
   "source": [
    "# Before Oversampling\n",
    "print('X:', X_train.shape)\n",
    "print('y:', y_train.shape)\n",
    "y_train.value_counts()"
   ]
  },
  {
   "cell_type": "code",
   "execution_count": 160,
   "id": "7df1e102",
   "metadata": {},
   "outputs": [],
   "source": [
    "#removing outliers after train-test\n",
    "under = pd.concat([X_train,y_train],axis=1)\n",
    "#under = under[filters2]"
   ]
  },
  {
   "cell_type": "code",
   "execution_count": 161,
   "id": "dfa77aae",
   "metadata": {},
   "outputs": [],
   "source": [
    "#balance our data - will remove negatively labeled data until the number of positives and negatives are the same. \n",
    "negative = under.loc[under.Buy==0]\n",
    "positive = under.loc[under.Buy==1]\n",
    "negative = negative.sample(frac=1, random_state=0)\n",
    "negative_under = negative[:int(4*len(positive))]\n",
    "df_under = pd.concat([positive,negative_under],axis=0)\n",
    "df_under = df_under.sample(frac=1, random_state=0)"
   ]
  },
  {
   "cell_type": "code",
   "execution_count": 162,
   "id": "988238f3",
   "metadata": {},
   "outputs": [
    {
     "data": {
      "text/plain": [
       "0    4656\n",
       "1    1164\n",
       "Name: Buy, dtype: int64"
      ]
     },
     "execution_count": 162,
     "metadata": {},
     "output_type": "execute_result"
    }
   ],
   "source": [
    "# After undersampling\n",
    "X_train_under = df_under.drop('Buy', axis=1)\n",
    "y_train_under = df_under['Buy']\n",
    "y_train_under.value_counts()"
   ]
  },
  {
   "cell_type": "markdown",
   "id": "e2eb8816",
   "metadata": {},
   "source": [
    "# Variable power transformations after train_test_split"
   ]
  },
  {
   "cell_type": "code",
   "execution_count": 163,
   "id": "793cf1d3",
   "metadata": {},
   "outputs": [],
   "source": [
    "# Define metric and non-metric features\n",
    "metric_features = ['GoogleAnalytics_ExitRate', 'GoogleAnalytics_PageValue']\n",
    "non_metric_features = X.columns.drop(metric_features).to_list()"
   ]
  },
  {
   "cell_type": "code",
   "execution_count": 164,
   "id": "7049e9cc",
   "metadata": {},
   "outputs": [],
   "source": [
    "#separate numeric and non-numeric\n",
    "X_train_num = X_train_under[metric_features]\n",
    "X_train_cat = X_train_under[non_metric_features]\n",
    "# DO IT for validation\n",
    "X_val_num = X_val[metric_features]\n",
    "X_val_cat = X_val[non_metric_features]"
   ]
  },
  {
   "cell_type": "code",
   "execution_count": 165,
   "id": "ddc08cb2",
   "metadata": {},
   "outputs": [],
   "source": [
    "#use train to power transform train and test\n",
    "power = PowerTransformer().fit(X_train_num)\n",
    "X_train_num_power = power.transform(X_train_num)\n",
    "X_train_num_power = pd.DataFrame(X_train_num_power, columns = X_train_num.columns).set_index(X_train_num.index)\n",
    "\n",
    "#and for validation\n",
    "X_val_num_power = power.transform(X_val_num)\n",
    "# Convert the array to a pandas dataframe\n",
    "X_val_num_power = pd.DataFrame(X_val_num_power, columns = X_val_num.columns).set_index(X_val_num.index)\n",
    "X_val_num_power.head(3)\n",
    "\n",
    "X_train_power = pd.concat([X_train_num_power, X_train_cat], axis=1)\n",
    "X_val_power = pd.concat([X_val_num_power, X_val_cat], axis=1)"
   ]
  },
  {
   "cell_type": "markdown",
   "id": "38e06cd4",
   "metadata": {},
   "source": [
    "# RFE"
   ]
  },
  {
   "cell_type": "code",
   "execution_count": 166,
   "id": "f9580ca3",
   "metadata": {},
   "outputs": [
    {
     "name": "stdout",
     "output_type": "stream",
     "text": [
      "Optimum number of features: 3\n",
      "Score with 3 features: 0.660592\n"
     ]
    }
   ],
   "source": [
    "#no of features\n",
    "nof_list=np.arange(1,7)            \n",
    "high_score=0\n",
    "#Variable to store the optimum features\n",
    "nof=0           \n",
    "score_list =[]\n",
    "for n in range(len(nof_list)):\n",
    "    model = LogisticRegression(class_weight='balanced').fit(X_train_power, y_train_under)\n",
    "    rfe = RFE(model,nof_list[n])\n",
    "    X_train_rfe = rfe.fit_transform(X_train_power,y_train_under)\n",
    "    X_val_rfe = rfe.transform(X_val_power)\n",
    "    model.fit(X_train_rfe,y_train_under)\n",
    "    \n",
    "    score = f1_score(y_val, (rfe.predict_proba(X_val_power)[:,1]>=0.75).astype(int))\n",
    "    score_list.append(score)\n",
    "    \n",
    "    if(score>high_score):\n",
    "        high_score = score\n",
    "        nof = nof_list[n]\n",
    "print(\"Optimum number of features: %d\" %nof)\n",
    "print(\"Score with %d features: %f\" % (nof, high_score))"
   ]
  },
  {
   "cell_type": "code",
   "execution_count": 167,
   "id": "3850bee6",
   "metadata": {},
   "outputs": [
    {
     "data": {
      "text/plain": [
       "Months_high                  False\n",
       "Type_of_Visitor_new           True\n",
       "GoogleAnalytics_ExitRate      True\n",
       "GoogleAnalytics_PageValue     True\n",
       "dtype: bool"
      ]
     },
     "execution_count": 167,
     "metadata": {},
     "output_type": "execute_result"
    }
   ],
   "source": [
    "model = LogisticRegression(class_weight='balanced').fit(X_train_power, y_train_under)\n",
    "rfe = RFE(estimator = model, n_features_to_select = 3)\n",
    "X_rfe = rfe.fit_transform(X = X_train_power, y = y_train_under)\n",
    "\n",
    "selected_features = pd.Series(rfe.support_, index = X_train_under.columns)\n",
    "selected_features\n",
    "#GoogleAnalytics_PageValue, Months_high, Type_of_Visitor_new"
   ]
  },
  {
   "cell_type": "markdown",
   "id": "eb970021",
   "metadata": {},
   "source": [
    "# final model"
   ]
  },
  {
   "cell_type": "code",
   "execution_count": 168,
   "id": "370fed62",
   "metadata": {},
   "outputs": [
    {
     "data": {
      "text/plain": [
       "array([[-0.34745727,  1.56551344,  1.27649493,  0.51907734]])"
      ]
     },
     "execution_count": 168,
     "metadata": {},
     "output_type": "execute_result"
    }
   ],
   "source": [
    "#with 25% test set, undersampling of length 4, and 4 variables (df_log3)\n",
    "model_log6 = LogisticRegression(class_weight='balanced').fit(X_train_power, y_train_under)\n",
    "\n",
    "y_pred_train = model_log6.predict(X_train_power)\n",
    "y_pred_val = model_log6.predict(X_val_power)\n",
    "model_log6.coef_"
   ]
  },
  {
   "cell_type": "code",
   "execution_count": 169,
   "id": "50a15750",
   "metadata": {},
   "outputs": [
    {
     "name": "stdout",
     "output_type": "stream",
     "text": [
      "f1_train: 0.7101174687381584\n",
      "[[1900  212]\n",
      " [  91  297]]\n",
      "precision: 0.5834970530451866\n",
      "f1_val: 0.6622073578595317\n"
     ]
    }
   ],
   "source": [
    "#low precision can be improved by increasing your threshold, making your model less sensitive\n",
    "y_pred_val_new_threshold = (model_log6.predict_proba(X_val_power)[:,1]>=0.7).astype(int)\n",
    "print('f1_train:', f1_score(y_train_under, y_pred_train))\n",
    "print(confusion_matrix(y_val, y_pred_val_new_threshold))\n",
    "print('precision:', precision_score(y_val, y_pred_val_new_threshold))\n",
    "print('f1_val:', f1_score(y_val, y_pred_val_new_threshold))"
   ]
  },
  {
   "cell_type": "markdown",
   "id": "4be76955",
   "metadata": {},
   "source": [
    "## Dataset for test"
   ]
  },
  {
   "cell_type": "code",
   "execution_count": 170,
   "id": "13e65482",
   "metadata": {},
   "outputs": [],
   "source": [
    "test_set = pd.read_csv('test.csv')\n",
    "# test_set.set_index('Access_ID', inplace = True)"
   ]
  },
  {
   "cell_type": "code",
   "execution_count": 171,
   "id": "ea13f976",
   "metadata": {},
   "outputs": [],
   "source": [
    "# select the columns for the model\n",
    "\n",
    "# 0 - PC/ 1 - Mobile\n",
    "dict_os = {'MacOSX': 0, 'Windows': 1, 'Android': 0, 'Ubuntu': 0, 'iOS': 0, 'Other': 0, 'Fedora': 0, 'Chrome OS':0}\n",
    "test_set['OS_window'] = test_set['OS'].map(dict_os)\n",
    "\n",
    "# 0 - Returner/ 1 - New_Access/ 2 - Other\n",
    "dict_visitor = {'Returner': 0, 'New_Access': 1, 'Other': 0}\n",
    "test_set['Type_of_Visitor_new'] = test_set['Type_of_Visitor'].map(dict_visitor)\n",
    "dict_visitor = {'Returner': 1, 'New_Access': 0, 'Other': 0}\n",
    "test_set['Type_of_Visitor_return'] = test_set['Type_of_Visitor'].map(dict_visitor)\n",
    "\n",
    "#months variable\n",
    "test_set['Date'] = pd.to_datetime(test_set['Date'], format='%d-%b-%y')\n",
    "test_set[\"Month\"]=test_set[\"Date\"].map(lambda x: x.month)\n",
    "test_set[\"Months_high\"]=test_set[\"Month\"].map(lambda x: 1 if x>7 & x<12 else 0)\n",
    "\n",
    "#type of traffic\n",
    "test_set[\"Type_of_Traffic_high\"]=test_set[\"Type_of_Traffic\"].map(lambda x: 1 if (x in [7,8,15]) else 0)\n",
    "test_set[\"Type_of_Traffic_med\"]=test_set[\"Type_of_Traffic\"].map(lambda x: 1 if (x in [10,11,2,5]) else 0)\n",
    "\n",
    "test = test_set[['Product_Pages','GoogleAnalytics_ExitRate',\n",
    "       'GoogleAnalytics_PageValue','Months_high',\n",
    "       'OS_window', 'Type_of_Visitor_new', 'Type_of_Visitor_return',\n",
    "       'Type_of_Traffic_high', 'Type_of_Traffic_med']]"
   ]
  },
  {
   "cell_type": "code",
   "execution_count": 172,
   "id": "00f771c8",
   "metadata": {},
   "outputs": [],
   "source": [
    "#power transform\n",
    "metric_features = ['GoogleAnalytics_ExitRate','GoogleAnalytics_PageValue']\n",
    "non_metric_features = X.columns.drop(metric_features).to_list()\n",
    "test_num = test[metric_features]\n",
    "test_cat = test[non_metric_features]"
   ]
  },
  {
   "cell_type": "code",
   "execution_count": 173,
   "id": "f64bef77",
   "metadata": {},
   "outputs": [],
   "source": [
    "test_num_power = power.transform(test_num)\n",
    "test_num_power = pd.DataFrame(test_num_power, columns = test_num.columns).set_index(test_num.index)\n",
    "\n",
    "test_power = pd.concat([test_num_power, test_cat], axis=1)"
   ]
  },
  {
   "cell_type": "code",
   "execution_count": 174,
   "id": "3c9704f6",
   "metadata": {},
   "outputs": [
    {
     "data": {
      "text/plain": [
       "Index(['GoogleAnalytics_ExitRate', 'GoogleAnalytics_PageValue', 'Months_high',\n",
       "       'Type_of_Visitor_new'],\n",
       "      dtype='object')"
      ]
     },
     "execution_count": 174,
     "metadata": {},
     "output_type": "execute_result"
    }
   ],
   "source": [
    "test_power.columns"
   ]
  },
  {
   "cell_type": "code",
   "execution_count": 175,
   "id": "7666a75d",
   "metadata": {},
   "outputs": [],
   "source": [
    "y_pred_new_threshold = (model_log6.predict_proba(test_power)[:,1]>=0.7).astype(int)"
   ]
  },
  {
   "cell_type": "code",
   "execution_count": 176,
   "id": "acf55aaa",
   "metadata": {},
   "outputs": [],
   "source": [
    "df_submission = pd.concat([test_set['Access_ID'], pd.DataFrame(columns=['Buy'], data=y_pred_new_threshold)], axis=1)"
   ]
  },
  {
   "cell_type": "code",
   "execution_count": 177,
   "id": "29c6b7f1",
   "metadata": {
    "scrolled": true
   },
   "outputs": [
    {
     "data": {
      "text/plain": [
       "0    1853\n",
       "1     447\n",
       "Name: Buy, dtype: int64"
      ]
     },
     "execution_count": 177,
     "metadata": {},
     "output_type": "execute_result"
    }
   ],
   "source": [
    "df_submission['Buy'].value_counts()"
   ]
  },
  {
   "cell_type": "code",
   "execution_count": 146,
   "id": "7eb61c49",
   "metadata": {},
   "outputs": [],
   "source": [
    "#logistic_under with length 4_power_lessfeatures_newfeats_newthresh\n",
    "df_submission.to_csv('Group17_Version26.csv', index=False)\n",
    "\n",
    "#version 29, log9 at .78, RFE 3 variables, almost all training data: kaggle score .663\n",
    "#version 28, log9 at .704349, RFE 3 variables, almost all training data: kaggle score .658\n",
    "#version 27, log7 at .704349, kaggle score .678\n",
    "#version 26, log6 at .7, kaggle score .69"
   ]
  }
 ],
 "metadata": {
  "kernelspec": {
   "display_name": "Python 3",
   "language": "python",
   "name": "python3"
  },
  "language_info": {
   "codemirror_mode": {
    "name": "ipython",
    "version": 3
   },
   "file_extension": ".py",
   "mimetype": "text/x-python",
   "name": "python",
   "nbconvert_exporter": "python",
   "pygments_lexer": "ipython3",
   "version": "3.8.8"
  }
 },
 "nbformat": 4,
 "nbformat_minor": 5
}
