{
 "cells": [
  {
   "cell_type": "code",
   "execution_count": 281,
   "id": "2fe6d2c9",
   "metadata": {},
   "outputs": [],
   "source": [
    "import numpy as np\n",
    "import pandas as pd\n",
    "import matplotlib.pyplot as plt\n",
    "import seaborn as sns\n",
    "from statistics import mean, stdev\n",
    "\n",
    "# data partition\n",
    "from sklearn.model_selection import train_test_split\n",
    "from sklearn.preprocessing import power_transform\n",
    "\n",
    "# models\n",
    "from sklearn.linear_model import LogisticRegression\n",
    "\n",
    "# metric\n",
    "from sklearn.metrics import confusion_matrix\n",
    "from sklearn.metrics import accuracy_score\n",
    "from sklearn.metrics import precision_score\n",
    "from sklearn.metrics import recall_score\n",
    "from sklearn.metrics import f1_score\n",
    "\n",
    "# oversampling\n",
    "from imblearn.over_sampling import RandomOverSampler\n",
    "\n",
    "# Kfold\n",
    "from sklearn.model_selection import StratifiedKFold\n",
    "\n",
    "# scale\n",
    "from sklearn.preprocessing import MinMaxScaler\n",
    "\n",
    "import warnings\n",
    "warnings.filterwarnings('ignore')"
   ]
  },
  {
   "cell_type": "markdown",
   "id": "3bd9c8eb",
   "metadata": {},
   "source": [
    "## Preprocessing"
   ]
  },
  {
   "cell_type": "code",
   "execution_count": 282,
   "id": "2c1fb1d4",
   "metadata": {},
   "outputs": [
    {
     "data": {
      "text/html": [
       "<div>\n",
       "<style scoped>\n",
       "    .dataframe tbody tr th:only-of-type {\n",
       "        vertical-align: middle;\n",
       "    }\n",
       "\n",
       "    .dataframe tbody tr th {\n",
       "        vertical-align: top;\n",
       "    }\n",
       "\n",
       "    .dataframe thead th {\n",
       "        text-align: right;\n",
       "    }\n",
       "</style>\n",
       "<table border=\"1\" class=\"dataframe\">\n",
       "  <thead>\n",
       "    <tr style=\"text-align: right;\">\n",
       "      <th></th>\n",
       "      <th>Access_ID</th>\n",
       "      <th>Date</th>\n",
       "      <th>AccountMng_Pages</th>\n",
       "      <th>AccountMng_Duration</th>\n",
       "      <th>FAQ_Pages</th>\n",
       "      <th>FAQ_Duration</th>\n",
       "      <th>Product_Pages</th>\n",
       "      <th>Product_Duration</th>\n",
       "      <th>GoogleAnalytics_BounceRate</th>\n",
       "      <th>GoogleAnalytics_ExitRate</th>\n",
       "      <th>GoogleAnalytics_PageValue</th>\n",
       "      <th>OS</th>\n",
       "      <th>Browser</th>\n",
       "      <th>Country</th>\n",
       "      <th>Type_of_Traffic</th>\n",
       "      <th>Type_of_Visitor</th>\n",
       "      <th>Buy</th>\n",
       "    </tr>\n",
       "  </thead>\n",
       "  <tbody>\n",
       "    <tr>\n",
       "      <th>0</th>\n",
       "      <td>102863333</td>\n",
       "      <td>21-Mar-20</td>\n",
       "      <td>0</td>\n",
       "      <td>0.0</td>\n",
       "      <td>0</td>\n",
       "      <td>0.0</td>\n",
       "      <td>3</td>\n",
       "      <td>64.0</td>\n",
       "      <td>0.0000</td>\n",
       "      <td>0.0667</td>\n",
       "      <td>0.0</td>\n",
       "      <td>MacOSX</td>\n",
       "      <td>2</td>\n",
       "      <td>Portugal</td>\n",
       "      <td>1</td>\n",
       "      <td>Returner</td>\n",
       "      <td>0</td>\n",
       "    </tr>\n",
       "    <tr>\n",
       "      <th>1</th>\n",
       "      <td>103117814</td>\n",
       "      <td>20-May-20</td>\n",
       "      <td>0</td>\n",
       "      <td>0.0</td>\n",
       "      <td>0</td>\n",
       "      <td>0.0</td>\n",
       "      <td>23</td>\n",
       "      <td>684.5</td>\n",
       "      <td>0.0217</td>\n",
       "      <td>0.0449</td>\n",
       "      <td>0.0</td>\n",
       "      <td>Windows</td>\n",
       "      <td>2</td>\n",
       "      <td>France</td>\n",
       "      <td>6</td>\n",
       "      <td>Returner</td>\n",
       "      <td>0</td>\n",
       "    </tr>\n",
       "    <tr>\n",
       "      <th>2</th>\n",
       "      <td>103201891</td>\n",
       "      <td>4-Dec-20</td>\n",
       "      <td>0</td>\n",
       "      <td>0.0</td>\n",
       "      <td>0</td>\n",
       "      <td>0.0</td>\n",
       "      <td>8</td>\n",
       "      <td>95.0</td>\n",
       "      <td>0.0250</td>\n",
       "      <td>0.0583</td>\n",
       "      <td>0.0</td>\n",
       "      <td>Windows</td>\n",
       "      <td>4</td>\n",
       "      <td>Italy</td>\n",
       "      <td>1</td>\n",
       "      <td>Returner</td>\n",
       "      <td>0</td>\n",
       "    </tr>\n",
       "  </tbody>\n",
       "</table>\n",
       "</div>"
      ],
      "text/plain": [
       "   Access_ID       Date  AccountMng_Pages  AccountMng_Duration  FAQ_Pages  \\\n",
       "0  102863333  21-Mar-20                 0                  0.0          0   \n",
       "1  103117814  20-May-20                 0                  0.0          0   \n",
       "2  103201891   4-Dec-20                 0                  0.0          0   \n",
       "\n",
       "   FAQ_Duration  Product_Pages  Product_Duration  GoogleAnalytics_BounceRate  \\\n",
       "0           0.0              3              64.0                      0.0000   \n",
       "1           0.0             23             684.5                      0.0217   \n",
       "2           0.0              8              95.0                      0.0250   \n",
       "\n",
       "   GoogleAnalytics_ExitRate  GoogleAnalytics_PageValue       OS  Browser  \\\n",
       "0                    0.0667                        0.0   MacOSX        2   \n",
       "1                    0.0449                        0.0  Windows        2   \n",
       "2                    0.0583                        0.0  Windows        4   \n",
       "\n",
       "    Country  Type_of_Traffic Type_of_Visitor  Buy  \n",
       "0  Portugal                1        Returner    0  \n",
       "1    France                6        Returner    0  \n",
       "2     Italy                1        Returner    0  "
      ]
     },
     "execution_count": 282,
     "metadata": {},
     "output_type": "execute_result"
    }
   ],
   "source": [
    "# open the dataset\n",
    "df = pd.read_csv('train.csv')\n",
    "df.head(3)"
   ]
  },
  {
   "cell_type": "code",
   "execution_count": 283,
   "id": "e6ae42d7",
   "metadata": {},
   "outputs": [
    {
     "name": "stdout",
     "output_type": "stream",
     "text": [
      "<class 'pandas.core.frame.DataFrame'>\n",
      "RangeIndex: 9999 entries, 0 to 9998\n",
      "Data columns (total 17 columns):\n",
      " #   Column                      Non-Null Count  Dtype  \n",
      "---  ------                      --------------  -----  \n",
      " 0   Access_ID                   9999 non-null   int64  \n",
      " 1   Date                        9999 non-null   object \n",
      " 2   AccountMng_Pages            9999 non-null   int64  \n",
      " 3   AccountMng_Duration         9999 non-null   float64\n",
      " 4   FAQ_Pages                   9999 non-null   int64  \n",
      " 5   FAQ_Duration                9999 non-null   float64\n",
      " 6   Product_Pages               9999 non-null   int64  \n",
      " 7   Product_Duration            9999 non-null   float64\n",
      " 8   GoogleAnalytics_BounceRate  9999 non-null   float64\n",
      " 9   GoogleAnalytics_ExitRate    9999 non-null   float64\n",
      " 10  GoogleAnalytics_PageValue   9999 non-null   float64\n",
      " 11  OS                          9999 non-null   object \n",
      " 12  Browser                     9999 non-null   int64  \n",
      " 13  Country                     9999 non-null   object \n",
      " 14  Type_of_Traffic             9999 non-null   int64  \n",
      " 15  Type_of_Visitor             9999 non-null   object \n",
      " 16  Buy                         9999 non-null   int64  \n",
      "dtypes: float64(6), int64(7), object(4)\n",
      "memory usage: 1.3+ MB\n"
     ]
    }
   ],
   "source": [
    "df.info()"
   ]
  },
  {
   "cell_type": "code",
   "execution_count": 284,
   "id": "9a6bce68",
   "metadata": {},
   "outputs": [
    {
     "data": {
      "text/html": [
       "<div>\n",
       "<style scoped>\n",
       "    .dataframe tbody tr th:only-of-type {\n",
       "        vertical-align: middle;\n",
       "    }\n",
       "\n",
       "    .dataframe tbody tr th {\n",
       "        vertical-align: top;\n",
       "    }\n",
       "\n",
       "    .dataframe thead th {\n",
       "        text-align: right;\n",
       "    }\n",
       "</style>\n",
       "<table border=\"1\" class=\"dataframe\">\n",
       "  <thead>\n",
       "    <tr style=\"text-align: right;\">\n",
       "      <th></th>\n",
       "      <th>count</th>\n",
       "      <th>mean</th>\n",
       "      <th>std</th>\n",
       "      <th>min</th>\n",
       "      <th>25%</th>\n",
       "      <th>50%</th>\n",
       "      <th>75%</th>\n",
       "      <th>max</th>\n",
       "    </tr>\n",
       "  </thead>\n",
       "  <tbody>\n",
       "    <tr>\n",
       "      <th>Access_ID</th>\n",
       "      <td>9999.0</td>\n",
       "      <td>4.519728e+08</td>\n",
       "      <td>2.024990e+08</td>\n",
       "      <td>102863333.0</td>\n",
       "      <td>2.731950e+08</td>\n",
       "      <td>4.536169e+08</td>\n",
       "      <td>6.259756e+08</td>\n",
       "      <td>7.984440e+08</td>\n",
       "    </tr>\n",
       "    <tr>\n",
       "      <th>AccountMng_Pages</th>\n",
       "      <td>9999.0</td>\n",
       "      <td>2.324232e+00</td>\n",
       "      <td>3.340676e+00</td>\n",
       "      <td>0.0</td>\n",
       "      <td>0.000000e+00</td>\n",
       "      <td>1.000000e+00</td>\n",
       "      <td>4.000000e+00</td>\n",
       "      <td>2.700000e+01</td>\n",
       "    </tr>\n",
       "    <tr>\n",
       "      <th>AccountMng_Duration</th>\n",
       "      <td>9999.0</td>\n",
       "      <td>8.120585e+01</td>\n",
       "      <td>1.797155e+02</td>\n",
       "      <td>0.0</td>\n",
       "      <td>0.000000e+00</td>\n",
       "      <td>7.500000e+00</td>\n",
       "      <td>9.220835e+01</td>\n",
       "      <td>3.398750e+03</td>\n",
       "    </tr>\n",
       "    <tr>\n",
       "      <th>FAQ_Pages</th>\n",
       "      <td>9999.0</td>\n",
       "      <td>5.080508e-01</td>\n",
       "      <td>1.279390e+00</td>\n",
       "      <td>0.0</td>\n",
       "      <td>0.000000e+00</td>\n",
       "      <td>0.000000e+00</td>\n",
       "      <td>0.000000e+00</td>\n",
       "      <td>2.400000e+01</td>\n",
       "    </tr>\n",
       "    <tr>\n",
       "      <th>FAQ_Duration</th>\n",
       "      <td>9999.0</td>\n",
       "      <td>3.455910e+01</td>\n",
       "      <td>1.397970e+02</td>\n",
       "      <td>0.0</td>\n",
       "      <td>0.000000e+00</td>\n",
       "      <td>0.000000e+00</td>\n",
       "      <td>0.000000e+00</td>\n",
       "      <td>2.549375e+03</td>\n",
       "    </tr>\n",
       "    <tr>\n",
       "      <th>Product_Pages</th>\n",
       "      <td>9999.0</td>\n",
       "      <td>3.168587e+01</td>\n",
       "      <td>4.455028e+01</td>\n",
       "      <td>0.0</td>\n",
       "      <td>7.000000e+00</td>\n",
       "      <td>1.800000e+01</td>\n",
       "      <td>3.800000e+01</td>\n",
       "      <td>7.050000e+02</td>\n",
       "    </tr>\n",
       "    <tr>\n",
       "      <th>Product_Duration</th>\n",
       "      <td>9999.0</td>\n",
       "      <td>1.199769e+03</td>\n",
       "      <td>1.958276e+03</td>\n",
       "      <td>0.0</td>\n",
       "      <td>1.835625e+02</td>\n",
       "      <td>5.990000e+02</td>\n",
       "      <td>1.470271e+03</td>\n",
       "      <td>6.397352e+04</td>\n",
       "    </tr>\n",
       "    <tr>\n",
       "      <th>GoogleAnalytics_BounceRate</th>\n",
       "      <td>9999.0</td>\n",
       "      <td>2.230545e-02</td>\n",
       "      <td>4.877597e-02</td>\n",
       "      <td>0.0</td>\n",
       "      <td>0.000000e+00</td>\n",
       "      <td>3.200000e-03</td>\n",
       "      <td>1.680000e-02</td>\n",
       "      <td>2.000000e-01</td>\n",
       "    </tr>\n",
       "    <tr>\n",
       "      <th>GoogleAnalytics_ExitRate</th>\n",
       "      <td>9999.0</td>\n",
       "      <td>4.318147e-02</td>\n",
       "      <td>4.884528e-02</td>\n",
       "      <td>0.0</td>\n",
       "      <td>1.430000e-02</td>\n",
       "      <td>2.510000e-02</td>\n",
       "      <td>5.000000e-02</td>\n",
       "      <td>2.000000e-01</td>\n",
       "    </tr>\n",
       "    <tr>\n",
       "      <th>GoogleAnalytics_PageValue</th>\n",
       "      <td>9999.0</td>\n",
       "      <td>5.963120e+00</td>\n",
       "      <td>1.875363e+01</td>\n",
       "      <td>0.0</td>\n",
       "      <td>0.000000e+00</td>\n",
       "      <td>0.000000e+00</td>\n",
       "      <td>0.000000e+00</td>\n",
       "      <td>3.617637e+02</td>\n",
       "    </tr>\n",
       "    <tr>\n",
       "      <th>Browser</th>\n",
       "      <td>9999.0</td>\n",
       "      <td>2.352535e+00</td>\n",
       "      <td>1.715698e+00</td>\n",
       "      <td>1.0</td>\n",
       "      <td>2.000000e+00</td>\n",
       "      <td>2.000000e+00</td>\n",
       "      <td>2.000000e+00</td>\n",
       "      <td>1.300000e+01</td>\n",
       "    </tr>\n",
       "    <tr>\n",
       "      <th>Type_of_Traffic</th>\n",
       "      <td>9999.0</td>\n",
       "      <td>3.957496e+00</td>\n",
       "      <td>3.675159e+00</td>\n",
       "      <td>1.0</td>\n",
       "      <td>2.000000e+00</td>\n",
       "      <td>2.000000e+00</td>\n",
       "      <td>4.000000e+00</td>\n",
       "      <td>1.500000e+01</td>\n",
       "    </tr>\n",
       "    <tr>\n",
       "      <th>Buy</th>\n",
       "      <td>9999.0</td>\n",
       "      <td>1.552155e-01</td>\n",
       "      <td>3.621281e-01</td>\n",
       "      <td>0.0</td>\n",
       "      <td>0.000000e+00</td>\n",
       "      <td>0.000000e+00</td>\n",
       "      <td>0.000000e+00</td>\n",
       "      <td>1.000000e+00</td>\n",
       "    </tr>\n",
       "  </tbody>\n",
       "</table>\n",
       "</div>"
      ],
      "text/plain": [
       "                             count          mean           std          min  \\\n",
       "Access_ID                   9999.0  4.519728e+08  2.024990e+08  102863333.0   \n",
       "AccountMng_Pages            9999.0  2.324232e+00  3.340676e+00          0.0   \n",
       "AccountMng_Duration         9999.0  8.120585e+01  1.797155e+02          0.0   \n",
       "FAQ_Pages                   9999.0  5.080508e-01  1.279390e+00          0.0   \n",
       "FAQ_Duration                9999.0  3.455910e+01  1.397970e+02          0.0   \n",
       "Product_Pages               9999.0  3.168587e+01  4.455028e+01          0.0   \n",
       "Product_Duration            9999.0  1.199769e+03  1.958276e+03          0.0   \n",
       "GoogleAnalytics_BounceRate  9999.0  2.230545e-02  4.877597e-02          0.0   \n",
       "GoogleAnalytics_ExitRate    9999.0  4.318147e-02  4.884528e-02          0.0   \n",
       "GoogleAnalytics_PageValue   9999.0  5.963120e+00  1.875363e+01          0.0   \n",
       "Browser                     9999.0  2.352535e+00  1.715698e+00          1.0   \n",
       "Type_of_Traffic             9999.0  3.957496e+00  3.675159e+00          1.0   \n",
       "Buy                         9999.0  1.552155e-01  3.621281e-01          0.0   \n",
       "\n",
       "                                     25%           50%           75%  \\\n",
       "Access_ID                   2.731950e+08  4.536169e+08  6.259756e+08   \n",
       "AccountMng_Pages            0.000000e+00  1.000000e+00  4.000000e+00   \n",
       "AccountMng_Duration         0.000000e+00  7.500000e+00  9.220835e+01   \n",
       "FAQ_Pages                   0.000000e+00  0.000000e+00  0.000000e+00   \n",
       "FAQ_Duration                0.000000e+00  0.000000e+00  0.000000e+00   \n",
       "Product_Pages               7.000000e+00  1.800000e+01  3.800000e+01   \n",
       "Product_Duration            1.835625e+02  5.990000e+02  1.470271e+03   \n",
       "GoogleAnalytics_BounceRate  0.000000e+00  3.200000e-03  1.680000e-02   \n",
       "GoogleAnalytics_ExitRate    1.430000e-02  2.510000e-02  5.000000e-02   \n",
       "GoogleAnalytics_PageValue   0.000000e+00  0.000000e+00  0.000000e+00   \n",
       "Browser                     2.000000e+00  2.000000e+00  2.000000e+00   \n",
       "Type_of_Traffic             2.000000e+00  2.000000e+00  4.000000e+00   \n",
       "Buy                         0.000000e+00  0.000000e+00  0.000000e+00   \n",
       "\n",
       "                                     max  \n",
       "Access_ID                   7.984440e+08  \n",
       "AccountMng_Pages            2.700000e+01  \n",
       "AccountMng_Duration         3.398750e+03  \n",
       "FAQ_Pages                   2.400000e+01  \n",
       "FAQ_Duration                2.549375e+03  \n",
       "Product_Pages               7.050000e+02  \n",
       "Product_Duration            6.397352e+04  \n",
       "GoogleAnalytics_BounceRate  2.000000e-01  \n",
       "GoogleAnalytics_ExitRate    2.000000e-01  \n",
       "GoogleAnalytics_PageValue   3.617637e+02  \n",
       "Browser                     1.300000e+01  \n",
       "Type_of_Traffic             1.500000e+01  \n",
       "Buy                         1.000000e+00  "
      ]
     },
     "execution_count": 284,
     "metadata": {},
     "output_type": "execute_result"
    }
   ],
   "source": [
    "df.describe().T"
   ]
  },
  {
   "cell_type": "code",
   "execution_count": 285,
   "id": "2e919ed7",
   "metadata": {},
   "outputs": [
    {
     "data": {
      "text/plain": [
       "0       0\n",
       "1       0\n",
       "2       1\n",
       "3       1\n",
       "4       1\n",
       "       ..\n",
       "9994    0\n",
       "9995    0\n",
       "9996    0\n",
       "9997    0\n",
       "9998    1\n",
       "Name: Months_high, Length: 9999, dtype: int64"
      ]
     },
     "execution_count": 285,
     "metadata": {},
     "output_type": "execute_result"
    }
   ],
   "source": [
    "# data types transformation\n",
    "# Converting Date type from object to datetime\n",
    "df['Date'] = pd.to_datetime(df['Date'], format='%d-%b-%y')\n",
    "df[\"Month\"]=df[\"Date\"].map(lambda x: x.month)\n",
    "df[\"Months_high\"]=df[\"Month\"].map(lambda x: 1 if x>7 & x<12 else 0)\n",
    "df[\"Months_high\"]"
   ]
  },
  {
   "cell_type": "markdown",
   "id": "5d52d6cd",
   "metadata": {},
   "source": [
    "## unbalenced data"
   ]
  },
  {
   "cell_type": "code",
   "execution_count": 286,
   "id": "a193328c",
   "metadata": {},
   "outputs": [
    {
     "data": {
      "text/plain": [
       "0    8447\n",
       "1    1552\n",
       "Name: Buy, dtype: int64"
      ]
     },
     "execution_count": 286,
     "metadata": {},
     "output_type": "execute_result"
    }
   ],
   "source": [
    "df['Buy'].value_counts()"
   ]
  },
  {
   "cell_type": "markdown",
   "id": "f834163c",
   "metadata": {},
   "source": [
    "## New features"
   ]
  },
  {
   "cell_type": "code",
   "execution_count": 287,
   "id": "cbaeb1ea",
   "metadata": {},
   "outputs": [
    {
     "data": {
      "text/plain": [
       "array(['MacOSX', 'Windows', 'Android', 'Ubuntu', 'iOS', 'Other', 'Fedora',\n",
       "       'Chrome OS'], dtype=object)"
      ]
     },
     "execution_count": 287,
     "metadata": {},
     "output_type": "execute_result"
    }
   ],
   "source": [
    "# type of OS: mobile or computer\n",
    "df['OS'].unique()"
   ]
  },
  {
   "cell_type": "code",
   "execution_count": 288,
   "id": "79d565a4",
   "metadata": {},
   "outputs": [],
   "source": [
    "# 0 - PC/ 1 - Mobile\n",
    "dict_os = {'MacOSX': 0, 'Windows': 0, 'Android': 0, 'Ubuntu': 0, 'iOS': 1, 'Other': 0, 'Fedora': 0, 'Chrome OS':0}\n",
    "df['OS_type'] = df['OS'].map(dict_os)"
   ]
  },
  {
   "cell_type": "code",
   "execution_count": 289,
   "id": "185fef68",
   "metadata": {},
   "outputs": [
    {
     "data": {
      "text/plain": [
       "Returner      8534\n",
       "New_Access    1391\n",
       "Other           74\n",
       "Name: Type_of_Visitor, dtype: int64"
      ]
     },
     "execution_count": 289,
     "metadata": {},
     "output_type": "execute_result"
    }
   ],
   "source": [
    "# Type of Visitor\n",
    "df['Type_of_Visitor'].value_counts()"
   ]
  },
  {
   "cell_type": "code",
   "execution_count": 290,
   "id": "f43902e8",
   "metadata": {},
   "outputs": [],
   "source": [
    "# 0 - Returner/ 1 - New_Access/ 2 - Other\n",
    "dict_visitor = {'Returner': 0, 'New_Access': 1, 'Other': 0}\n",
    "\n",
    "df['Type_of_Visitor_type'] = df['Type_of_Visitor'].map(dict_visitor)"
   ]
  },
  {
   "cell_type": "code",
   "execution_count": 291,
   "id": "3105a152",
   "metadata": {},
   "outputs": [
    {
     "data": {
      "text/plain": [
       "2     3150\n",
       "1     2008\n",
       "3     1676\n",
       "4      870\n",
       "13     595\n",
       "10     355\n",
       "6      354\n",
       "8      284\n",
       "5      210\n",
       "11     205\n",
       "15     156\n",
       "12      44\n",
       "9       34\n",
       "7       31\n",
       "14      27\n",
       "Name: Type_of_Traffic, dtype: int64"
      ]
     },
     "execution_count": 291,
     "metadata": {},
     "output_type": "execute_result"
    }
   ],
   "source": [
    "# Type of Traffic\n",
    "df['Type_of_Traffic'].value_counts()"
   ]
  },
  {
   "cell_type": "code",
   "execution_count": 292,
   "id": "925b9cf4",
   "metadata": {},
   "outputs": [
    {
     "data": {
      "text/plain": [
       "0    9528\n",
       "1     471\n",
       "Name: Type_of_Traffic_high, dtype: int64"
      ]
     },
     "execution_count": 292,
     "metadata": {},
     "output_type": "execute_result"
    }
   ],
   "source": [
    "df[\"Type_of_Traffic_high\"]=df[\"Type_of_Traffic\"].map(lambda x: 1 if (x in [7,8,15]) else 0)\n",
    "df[\"Type_of_Traffic_high\"].value_counts()"
   ]
  },
  {
   "cell_type": "markdown",
   "id": "9037f79c",
   "metadata": {},
   "source": [
    "## Remove Outliers"
   ]
  },
  {
   "cell_type": "code",
   "execution_count": 293,
   "id": "f17ad3b8",
   "metadata": {},
   "outputs": [
    {
     "name": "stdout",
     "output_type": "stream",
     "text": [
      "Percentage of data kept after removing outliers: 0.9973\n"
     ]
    }
   ],
   "source": [
    "# trashold for outliers\n",
    "filters1 = (\n",
    "    (df['AccountMng_Duration']<=2000)\n",
    "    &\n",
    "    (df['FAQ_Duration']<=1500)\n",
    "    &\n",
    "    (df['Product_Pages']<=500)\n",
    "    &\n",
    "    (df['Product_Duration']<=25000)\n",
    "    &\n",
    "    (df['GoogleAnalytics_PageValue']<=300)\n",
    ")\n",
    "\n",
    "df_1 = df[filters1]\n",
    "\n",
    "print('Percentage of data kept after removing outliers:', np.round(df_1.shape[0] / df.shape[0], 4))\n",
    "\n",
    "df = df[filters1]"
   ]
  },
  {
   "cell_type": "code",
   "execution_count": 294,
   "id": "2df0c37b",
   "metadata": {},
   "outputs": [
    {
     "data": {
      "text/html": [
       "<div>\n",
       "<style scoped>\n",
       "    .dataframe tbody tr th:only-of-type {\n",
       "        vertical-align: middle;\n",
       "    }\n",
       "\n",
       "    .dataframe tbody tr th {\n",
       "        vertical-align: top;\n",
       "    }\n",
       "\n",
       "    .dataframe thead th {\n",
       "        text-align: right;\n",
       "    }\n",
       "</style>\n",
       "<table border=\"1\" class=\"dataframe\">\n",
       "  <thead>\n",
       "    <tr style=\"text-align: right;\">\n",
       "      <th></th>\n",
       "      <th>count</th>\n",
       "      <th>mean</th>\n",
       "      <th>std</th>\n",
       "      <th>min</th>\n",
       "      <th>25%</th>\n",
       "      <th>50%</th>\n",
       "      <th>75%</th>\n",
       "      <th>max</th>\n",
       "    </tr>\n",
       "  </thead>\n",
       "  <tbody>\n",
       "    <tr>\n",
       "      <th>Access_ID</th>\n",
       "      <td>9972.0</td>\n",
       "      <td>4.521602e+08</td>\n",
       "      <td>2.025858e+08</td>\n",
       "      <td>102863333.0</td>\n",
       "      <td>2.733227e+08</td>\n",
       "      <td>4.539848e+08</td>\n",
       "      <td>6.263382e+08</td>\n",
       "      <td>7.984440e+08</td>\n",
       "    </tr>\n",
       "    <tr>\n",
       "      <th>AccountMng_Pages</th>\n",
       "      <td>9972.0</td>\n",
       "      <td>2.306558e+00</td>\n",
       "      <td>3.308251e+00</td>\n",
       "      <td>0.0</td>\n",
       "      <td>0.000000e+00</td>\n",
       "      <td>1.000000e+00</td>\n",
       "      <td>4.000000e+00</td>\n",
       "      <td>2.600000e+01</td>\n",
       "    </tr>\n",
       "    <tr>\n",
       "      <th>AccountMng_Duration</th>\n",
       "      <td>9972.0</td>\n",
       "      <td>7.918739e+01</td>\n",
       "      <td>1.671393e+02</td>\n",
       "      <td>0.0</td>\n",
       "      <td>0.000000e+00</td>\n",
       "      <td>7.000000e+00</td>\n",
       "      <td>9.175000e+01</td>\n",
       "      <td>1.951279e+03</td>\n",
       "    </tr>\n",
       "    <tr>\n",
       "      <th>FAQ_Pages</th>\n",
       "      <td>9972.0</td>\n",
       "      <td>4.972924e-01</td>\n",
       "      <td>1.237795e+00</td>\n",
       "      <td>0.0</td>\n",
       "      <td>0.000000e+00</td>\n",
       "      <td>0.000000e+00</td>\n",
       "      <td>0.000000e+00</td>\n",
       "      <td>1.600000e+01</td>\n",
       "    </tr>\n",
       "    <tr>\n",
       "      <th>FAQ_Duration</th>\n",
       "      <td>9972.0</td>\n",
       "      <td>3.133000e+01</td>\n",
       "      <td>1.174612e+02</td>\n",
       "      <td>0.0</td>\n",
       "      <td>0.000000e+00</td>\n",
       "      <td>0.000000e+00</td>\n",
       "      <td>0.000000e+00</td>\n",
       "      <td>1.494500e+03</td>\n",
       "    </tr>\n",
       "    <tr>\n",
       "      <th>Product_Pages</th>\n",
       "      <td>9972.0</td>\n",
       "      <td>3.110961e+01</td>\n",
       "      <td>4.141405e+01</td>\n",
       "      <td>0.0</td>\n",
       "      <td>7.000000e+00</td>\n",
       "      <td>1.800000e+01</td>\n",
       "      <td>3.800000e+01</td>\n",
       "      <td>4.700000e+02</td>\n",
       "    </tr>\n",
       "    <tr>\n",
       "      <th>Product_Duration</th>\n",
       "      <td>9972.0</td>\n",
       "      <td>1.166473e+03</td>\n",
       "      <td>1.682319e+03</td>\n",
       "      <td>0.0</td>\n",
       "      <td>1.825625e+02</td>\n",
       "      <td>5.972917e+02</td>\n",
       "      <td>1.460652e+03</td>\n",
       "      <td>2.388881e+04</td>\n",
       "    </tr>\n",
       "    <tr>\n",
       "      <th>GoogleAnalytics_BounceRate</th>\n",
       "      <td>9972.0</td>\n",
       "      <td>2.235188e-02</td>\n",
       "      <td>4.883266e-02</td>\n",
       "      <td>0.0</td>\n",
       "      <td>0.000000e+00</td>\n",
       "      <td>3.200000e-03</td>\n",
       "      <td>1.690000e-02</td>\n",
       "      <td>2.000000e-01</td>\n",
       "    </tr>\n",
       "    <tr>\n",
       "      <th>GoogleAnalytics_ExitRate</th>\n",
       "      <td>9972.0</td>\n",
       "      <td>4.324573e-02</td>\n",
       "      <td>4.889256e-02</td>\n",
       "      <td>0.0</td>\n",
       "      <td>1.430000e-02</td>\n",
       "      <td>2.520000e-02</td>\n",
       "      <td>5.000000e-02</td>\n",
       "      <td>2.000000e-01</td>\n",
       "    </tr>\n",
       "    <tr>\n",
       "      <th>GoogleAnalytics_PageValue</th>\n",
       "      <td>9972.0</td>\n",
       "      <td>5.894852e+00</td>\n",
       "      <td>1.808925e+01</td>\n",
       "      <td>0.0</td>\n",
       "      <td>0.000000e+00</td>\n",
       "      <td>0.000000e+00</td>\n",
       "      <td>0.000000e+00</td>\n",
       "      <td>2.879538e+02</td>\n",
       "    </tr>\n",
       "    <tr>\n",
       "      <th>Browser</th>\n",
       "      <td>9972.0</td>\n",
       "      <td>2.352086e+00</td>\n",
       "      <td>1.714236e+00</td>\n",
       "      <td>1.0</td>\n",
       "      <td>2.000000e+00</td>\n",
       "      <td>2.000000e+00</td>\n",
       "      <td>2.000000e+00</td>\n",
       "      <td>1.300000e+01</td>\n",
       "    </tr>\n",
       "    <tr>\n",
       "      <th>Type_of_Traffic</th>\n",
       "      <td>9972.0</td>\n",
       "      <td>3.955074e+00</td>\n",
       "      <td>3.671523e+00</td>\n",
       "      <td>1.0</td>\n",
       "      <td>2.000000e+00</td>\n",
       "      <td>2.000000e+00</td>\n",
       "      <td>4.000000e+00</td>\n",
       "      <td>1.500000e+01</td>\n",
       "    </tr>\n",
       "    <tr>\n",
       "      <th>Buy</th>\n",
       "      <td>9972.0</td>\n",
       "      <td>1.547333e-01</td>\n",
       "      <td>3.616683e-01</td>\n",
       "      <td>0.0</td>\n",
       "      <td>0.000000e+00</td>\n",
       "      <td>0.000000e+00</td>\n",
       "      <td>0.000000e+00</td>\n",
       "      <td>1.000000e+00</td>\n",
       "    </tr>\n",
       "    <tr>\n",
       "      <th>Month</th>\n",
       "      <td>9972.0</td>\n",
       "      <td>7.640794e+00</td>\n",
       "      <td>3.398563e+00</td>\n",
       "      <td>2.0</td>\n",
       "      <td>5.000000e+00</td>\n",
       "      <td>7.000000e+00</td>\n",
       "      <td>1.100000e+01</td>\n",
       "      <td>1.200000e+01</td>\n",
       "    </tr>\n",
       "    <tr>\n",
       "      <th>Months_high</th>\n",
       "      <td>9972.0</td>\n",
       "      <td>4.977938e-01</td>\n",
       "      <td>5.000202e-01</td>\n",
       "      <td>0.0</td>\n",
       "      <td>0.000000e+00</td>\n",
       "      <td>0.000000e+00</td>\n",
       "      <td>1.000000e+00</td>\n",
       "      <td>1.000000e+00</td>\n",
       "    </tr>\n",
       "    <tr>\n",
       "      <th>OS_type</th>\n",
       "      <td>9972.0</td>\n",
       "      <td>3.770558e-02</td>\n",
       "      <td>1.904928e-01</td>\n",
       "      <td>0.0</td>\n",
       "      <td>0.000000e+00</td>\n",
       "      <td>0.000000e+00</td>\n",
       "      <td>0.000000e+00</td>\n",
       "      <td>1.000000e+00</td>\n",
       "    </tr>\n",
       "    <tr>\n",
       "      <th>Type_of_Visitor_type</th>\n",
       "      <td>9972.0</td>\n",
       "      <td>1.392900e-01</td>\n",
       "      <td>3.462663e-01</td>\n",
       "      <td>0.0</td>\n",
       "      <td>0.000000e+00</td>\n",
       "      <td>0.000000e+00</td>\n",
       "      <td>0.000000e+00</td>\n",
       "      <td>1.000000e+00</td>\n",
       "    </tr>\n",
       "    <tr>\n",
       "      <th>Type_of_Traffic_high</th>\n",
       "      <td>9972.0</td>\n",
       "      <td>4.683113e-02</td>\n",
       "      <td>2.112876e-01</td>\n",
       "      <td>0.0</td>\n",
       "      <td>0.000000e+00</td>\n",
       "      <td>0.000000e+00</td>\n",
       "      <td>0.000000e+00</td>\n",
       "      <td>1.000000e+00</td>\n",
       "    </tr>\n",
       "  </tbody>\n",
       "</table>\n",
       "</div>"
      ],
      "text/plain": [
       "                             count          mean           std          min  \\\n",
       "Access_ID                   9972.0  4.521602e+08  2.025858e+08  102863333.0   \n",
       "AccountMng_Pages            9972.0  2.306558e+00  3.308251e+00          0.0   \n",
       "AccountMng_Duration         9972.0  7.918739e+01  1.671393e+02          0.0   \n",
       "FAQ_Pages                   9972.0  4.972924e-01  1.237795e+00          0.0   \n",
       "FAQ_Duration                9972.0  3.133000e+01  1.174612e+02          0.0   \n",
       "Product_Pages               9972.0  3.110961e+01  4.141405e+01          0.0   \n",
       "Product_Duration            9972.0  1.166473e+03  1.682319e+03          0.0   \n",
       "GoogleAnalytics_BounceRate  9972.0  2.235188e-02  4.883266e-02          0.0   \n",
       "GoogleAnalytics_ExitRate    9972.0  4.324573e-02  4.889256e-02          0.0   \n",
       "GoogleAnalytics_PageValue   9972.0  5.894852e+00  1.808925e+01          0.0   \n",
       "Browser                     9972.0  2.352086e+00  1.714236e+00          1.0   \n",
       "Type_of_Traffic             9972.0  3.955074e+00  3.671523e+00          1.0   \n",
       "Buy                         9972.0  1.547333e-01  3.616683e-01          0.0   \n",
       "Month                       9972.0  7.640794e+00  3.398563e+00          2.0   \n",
       "Months_high                 9972.0  4.977938e-01  5.000202e-01          0.0   \n",
       "OS_type                     9972.0  3.770558e-02  1.904928e-01          0.0   \n",
       "Type_of_Visitor_type        9972.0  1.392900e-01  3.462663e-01          0.0   \n",
       "Type_of_Traffic_high        9972.0  4.683113e-02  2.112876e-01          0.0   \n",
       "\n",
       "                                     25%           50%           75%  \\\n",
       "Access_ID                   2.733227e+08  4.539848e+08  6.263382e+08   \n",
       "AccountMng_Pages            0.000000e+00  1.000000e+00  4.000000e+00   \n",
       "AccountMng_Duration         0.000000e+00  7.000000e+00  9.175000e+01   \n",
       "FAQ_Pages                   0.000000e+00  0.000000e+00  0.000000e+00   \n",
       "FAQ_Duration                0.000000e+00  0.000000e+00  0.000000e+00   \n",
       "Product_Pages               7.000000e+00  1.800000e+01  3.800000e+01   \n",
       "Product_Duration            1.825625e+02  5.972917e+02  1.460652e+03   \n",
       "GoogleAnalytics_BounceRate  0.000000e+00  3.200000e-03  1.690000e-02   \n",
       "GoogleAnalytics_ExitRate    1.430000e-02  2.520000e-02  5.000000e-02   \n",
       "GoogleAnalytics_PageValue   0.000000e+00  0.000000e+00  0.000000e+00   \n",
       "Browser                     2.000000e+00  2.000000e+00  2.000000e+00   \n",
       "Type_of_Traffic             2.000000e+00  2.000000e+00  4.000000e+00   \n",
       "Buy                         0.000000e+00  0.000000e+00  0.000000e+00   \n",
       "Month                       5.000000e+00  7.000000e+00  1.100000e+01   \n",
       "Months_high                 0.000000e+00  0.000000e+00  1.000000e+00   \n",
       "OS_type                     0.000000e+00  0.000000e+00  0.000000e+00   \n",
       "Type_of_Visitor_type        0.000000e+00  0.000000e+00  0.000000e+00   \n",
       "Type_of_Traffic_high        0.000000e+00  0.000000e+00  0.000000e+00   \n",
       "\n",
       "                                     max  \n",
       "Access_ID                   7.984440e+08  \n",
       "AccountMng_Pages            2.600000e+01  \n",
       "AccountMng_Duration         1.951279e+03  \n",
       "FAQ_Pages                   1.600000e+01  \n",
       "FAQ_Duration                1.494500e+03  \n",
       "Product_Pages               4.700000e+02  \n",
       "Product_Duration            2.388881e+04  \n",
       "GoogleAnalytics_BounceRate  2.000000e-01  \n",
       "GoogleAnalytics_ExitRate    2.000000e-01  \n",
       "GoogleAnalytics_PageValue   2.879538e+02  \n",
       "Browser                     1.300000e+01  \n",
       "Type_of_Traffic             1.500000e+01  \n",
       "Buy                         1.000000e+00  \n",
       "Month                       1.200000e+01  \n",
       "Months_high                 1.000000e+00  \n",
       "OS_type                     1.000000e+00  \n",
       "Type_of_Visitor_type        1.000000e+00  \n",
       "Type_of_Traffic_high        1.000000e+00  "
      ]
     },
     "execution_count": 294,
     "metadata": {},
     "output_type": "execute_result"
    }
   ],
   "source": [
    "df.describe().T"
   ]
  },
  {
   "cell_type": "markdown",
   "id": "5a5bc4d8",
   "metadata": {},
   "source": [
    "## Correlation"
   ]
  },
  {
   "cell_type": "code",
   "execution_count": 71,
   "id": "7d32ebd4",
   "metadata": {},
   "outputs": [
    {
     "data": {
      "text/plain": [
       "Index(['Access_ID', 'Date', 'AccountMng_Pages', 'AccountMng_Duration',\n",
       "       'FAQ_Pages', 'FAQ_Duration', 'Product_Pages', 'Product_Duration',\n",
       "       'GoogleAnalytics_BounceRate', 'GoogleAnalytics_ExitRate',\n",
       "       'GoogleAnalytics_PageValue', 'OS', 'Browser', 'Country',\n",
       "       'Type_of_Traffic', 'Type_of_Visitor', 'Buy', 'OS_type',\n",
       "       'Type_of_Visitor_type'],\n",
       "      dtype='object')"
      ]
     },
     "execution_count": 71,
     "metadata": {},
     "output_type": "execute_result"
    }
   ],
   "source": [
    "df.columns"
   ]
  },
  {
   "cell_type": "code",
   "execution_count": 295,
   "id": "49a5921e",
   "metadata": {},
   "outputs": [],
   "source": [
    "# Define metric and non-metric features\n",
    "non_metric_features = ['Access_ID', 'Date', 'OS', 'Browser', 'Country','Type_of_Traffic', 'Type_of_Visitor',\n",
    "                       'Buy', 'OS_type', 'Type_of_Visitor_type']\n",
    "metric_features = df.columns.drop(non_metric_features).to_list()"
   ]
  },
  {
   "cell_type": "code",
   "execution_count": 296,
   "id": "c8e4d2ee",
   "metadata": {},
   "outputs": [],
   "source": [
    "def cor_heatmap(cor, ax):\n",
    "    plt.figure(figsize=(12,10))\n",
    "    sns.heatmap(data = cor, annot = True, cmap = plt.cm.Reds, fmt='.1', ax=ax)\n",
    "    plt.show()"
   ]
  },
  {
   "cell_type": "code",
   "execution_count": 297,
   "id": "1d5e6e49",
   "metadata": {},
   "outputs": [
    {
     "data": {
      "image/png": "[encoded data removed]",
      "text/plain": [
       "<Figure size 576x432 with 2 Axes>"
      ]
     },
     "metadata": {
      "needs_background": "light"
     },
     "output_type": "display_data"
    },
    {
     "data": {
      "text/plain": [
       "<Figure size 864x720 with 0 Axes>"
      ]
     },
     "metadata": {},
     "output_type": "display_data"
    },
    {
     "data": {
      "image/png": "[encoded data removed]",
      "text/plain": [
       "<Figure size 576x432 with 2 Axes>"
      ]
     },
     "metadata": {
      "needs_background": "light"
     },
     "output_type": "display_data"
    },
    {
     "data": {
      "text/plain": [
       "<Figure size 864x720 with 0 Axes>"
      ]
     },
     "metadata": {},
     "output_type": "display_data"
    }
   ],
   "source": [
    "#build correlation matrix\n",
    "cor_spearman = df[metric_features].corr(method ='spearman')\n",
    "# cor_spearman\n",
    "\n",
    "cor_pearson = df[metric_features].corr(method='pearson')\n",
    "\n",
    "fig, ax1 = plt.subplots(1,1, figsize=(8,6))\n",
    "cor_heatmap(cor_spearman, ax1)\n",
    "fig, ax1 = plt.subplots(1,1, figsize=(8,6))\n",
    "cor_heatmap(cor_pearson, ax1)"
   ]
  },
  {
   "cell_type": "markdown",
   "id": "1af1b940",
   "metadata": {},
   "source": [
    "## Dataset for Logistic Reg2"
   ]
  },
  {
   "cell_type": "code",
   "execution_count": 298,
   "id": "5cd80d24",
   "metadata": {},
   "outputs": [
    {
     "data": {
      "text/plain": [
       "Index(['Access_ID', 'Date', 'AccountMng_Pages', 'AccountMng_Duration',\n",
       "       'FAQ_Pages', 'FAQ_Duration', 'Product_Pages', 'Product_Duration',\n",
       "       'GoogleAnalytics_BounceRate', 'GoogleAnalytics_ExitRate',\n",
       "       'GoogleAnalytics_PageValue', 'OS', 'Browser', 'Country',\n",
       "       'Type_of_Traffic', 'Type_of_Visitor', 'Buy', 'Month', 'Months_high',\n",
       "       'OS_type', 'Type_of_Visitor_type', 'Type_of_Traffic_high'],\n",
       "      dtype='object')"
      ]
     },
     "execution_count": 298,
     "metadata": {},
     "output_type": "execute_result"
    }
   ],
   "source": [
    "df.columns"
   ]
  },
  {
   "cell_type": "code",
   "execution_count": 151,
   "id": "3a7ef054",
   "metadata": {},
   "outputs": [],
   "source": [
    "#df_log1 = df[['AccountMng_Duration', 'Product_Pages', 'GoogleAnalytics_ExitRate', 'GoogleAnalytics_PageValue',\n",
    "#              'Buy']]"
   ]
  },
  {
   "cell_type": "code",
   "execution_count": 299,
   "id": "cff5567c",
   "metadata": {},
   "outputs": [],
   "source": [
    "df_log2 = df[[ \"Type_of_Traffic_high\",\"Months_high\",\"Type_of_Visitor_type\",'GoogleAnalytics_ExitRate',  'GoogleAnalytics_PageValue',\"Buy\"]]"
   ]
  },
  {
   "cell_type": "code",
   "execution_count": 300,
   "id": "15159ce7",
   "metadata": {},
   "outputs": [],
   "source": [
    "X = df_log2.drop('Buy', axis=1)\n",
    "y = df_log2['Buy']"
   ]
  },
  {
   "cell_type": "code",
   "execution_count": 301,
   "id": "8a673c1f",
   "metadata": {},
   "outputs": [
    {
     "data": {
      "text/html": [
       "<div>\n",
       "<style scoped>\n",
       "    .dataframe tbody tr th:only-of-type {\n",
       "        vertical-align: middle;\n",
       "    }\n",
       "\n",
       "    .dataframe tbody tr th {\n",
       "        vertical-align: top;\n",
       "    }\n",
       "\n",
       "    .dataframe thead th {\n",
       "        text-align: right;\n",
       "    }\n",
       "</style>\n",
       "<table border=\"1\" class=\"dataframe\">\n",
       "  <thead>\n",
       "    <tr style=\"text-align: right;\">\n",
       "      <th></th>\n",
       "      <th>Type_of_Traffic_high</th>\n",
       "      <th>Months_high</th>\n",
       "      <th>Type_of_Visitor_type</th>\n",
       "      <th>GoogleAnalytics_ExitRate</th>\n",
       "      <th>GoogleAnalytics_PageValue</th>\n",
       "    </tr>\n",
       "  </thead>\n",
       "  <tbody>\n",
       "    <tr>\n",
       "      <th>0</th>\n",
       "      <td>0</td>\n",
       "      <td>0</td>\n",
       "      <td>0</td>\n",
       "      <td>0.0667</td>\n",
       "      <td>0.0000</td>\n",
       "    </tr>\n",
       "    <tr>\n",
       "      <th>1</th>\n",
       "      <td>0</td>\n",
       "      <td>0</td>\n",
       "      <td>0</td>\n",
       "      <td>0.0449</td>\n",
       "      <td>0.0000</td>\n",
       "    </tr>\n",
       "    <tr>\n",
       "      <th>2</th>\n",
       "      <td>0</td>\n",
       "      <td>1</td>\n",
       "      <td>0</td>\n",
       "      <td>0.0583</td>\n",
       "      <td>0.0000</td>\n",
       "    </tr>\n",
       "    <tr>\n",
       "      <th>3</th>\n",
       "      <td>0</td>\n",
       "      <td>1</td>\n",
       "      <td>0</td>\n",
       "      <td>0.0250</td>\n",
       "      <td>42.4225</td>\n",
       "    </tr>\n",
       "    <tr>\n",
       "      <th>4</th>\n",
       "      <td>0</td>\n",
       "      <td>1</td>\n",
       "      <td>0</td>\n",
       "      <td>0.0093</td>\n",
       "      <td>12.5033</td>\n",
       "    </tr>\n",
       "    <tr>\n",
       "      <th>...</th>\n",
       "      <td>...</td>\n",
       "      <td>...</td>\n",
       "      <td>...</td>\n",
       "      <td>...</td>\n",
       "      <td>...</td>\n",
       "    </tr>\n",
       "    <tr>\n",
       "      <th>9994</th>\n",
       "      <td>0</td>\n",
       "      <td>0</td>\n",
       "      <td>0</td>\n",
       "      <td>0.0111</td>\n",
       "      <td>0.0000</td>\n",
       "    </tr>\n",
       "    <tr>\n",
       "      <th>9995</th>\n",
       "      <td>0</td>\n",
       "      <td>0</td>\n",
       "      <td>1</td>\n",
       "      <td>0.0111</td>\n",
       "      <td>0.0000</td>\n",
       "    </tr>\n",
       "    <tr>\n",
       "      <th>9996</th>\n",
       "      <td>0</td>\n",
       "      <td>0</td>\n",
       "      <td>0</td>\n",
       "      <td>0.0519</td>\n",
       "      <td>0.0000</td>\n",
       "    </tr>\n",
       "    <tr>\n",
       "      <th>9997</th>\n",
       "      <td>0</td>\n",
       "      <td>0</td>\n",
       "      <td>0</td>\n",
       "      <td>0.0363</td>\n",
       "      <td>0.0000</td>\n",
       "    </tr>\n",
       "    <tr>\n",
       "      <th>9998</th>\n",
       "      <td>0</td>\n",
       "      <td>1</td>\n",
       "      <td>0</td>\n",
       "      <td>0.0319</td>\n",
       "      <td>4.2803</td>\n",
       "    </tr>\n",
       "  </tbody>\n",
       "</table>\n",
       "<p>9972 rows × 5 columns</p>\n",
       "</div>"
      ],
      "text/plain": [
       "      Type_of_Traffic_high  Months_high  Type_of_Visitor_type  \\\n",
       "0                        0            0                     0   \n",
       "1                        0            0                     0   \n",
       "2                        0            1                     0   \n",
       "3                        0            1                     0   \n",
       "4                        0            1                     0   \n",
       "...                    ...          ...                   ...   \n",
       "9994                     0            0                     0   \n",
       "9995                     0            0                     1   \n",
       "9996                     0            0                     0   \n",
       "9997                     0            0                     0   \n",
       "9998                     0            1                     0   \n",
       "\n",
       "      GoogleAnalytics_ExitRate  GoogleAnalytics_PageValue  \n",
       "0                       0.0667                     0.0000  \n",
       "1                       0.0449                     0.0000  \n",
       "2                       0.0583                     0.0000  \n",
       "3                       0.0250                    42.4225  \n",
       "4                       0.0093                    12.5033  \n",
       "...                        ...                        ...  \n",
       "9994                    0.0111                     0.0000  \n",
       "9995                    0.0111                     0.0000  \n",
       "9996                    0.0519                     0.0000  \n",
       "9997                    0.0363                     0.0000  \n",
       "9998                    0.0319                     4.2803  \n",
       "\n",
       "[9972 rows x 5 columns]"
      ]
     },
     "execution_count": 301,
     "metadata": {},
     "output_type": "execute_result"
    }
   ],
   "source": [
    "X"
   ]
  },
  {
   "cell_type": "markdown",
   "id": "9c9e6fa2",
   "metadata": {},
   "source": [
    "## Balance the training set - test Oversampling"
   ]
  },
  {
   "cell_type": "code",
   "execution_count": 302,
   "id": "cecbfca2",
   "metadata": {},
   "outputs": [],
   "source": [
    "# split the dataset\n",
    "X_train, X_val, y_train, y_val = train_test_split(X, y, test_size=0.3, random_state=5, stratify=y)"
   ]
  },
  {
   "cell_type": "code",
   "execution_count": 303,
   "id": "80f24867",
   "metadata": {},
   "outputs": [
    {
     "name": "stdout",
     "output_type": "stream",
     "text": [
      "X: (6980, 5)\n",
      "y: (6980,)\n"
     ]
    },
    {
     "data": {
      "text/plain": [
       "0    5900\n",
       "1    1080\n",
       "Name: Buy, dtype: int64"
      ]
     },
     "execution_count": 303,
     "metadata": {},
     "output_type": "execute_result"
    }
   ],
   "source": [
    "# Before Oversampling\n",
    "print('X:', X_train.shape)\n",
    "print('y:', y_train.shape)\n",
    "y_train.value_counts()"
   ]
  },
  {
   "cell_type": "code",
   "execution_count": 304,
   "id": "3fdfeb11",
   "metadata": {},
   "outputs": [],
   "source": [
    "#oversample only training data\n",
    "ros = RandomOverSampler(random_state=6)\n",
    "X_train_over, y_train_over = ros.fit_resample(X_train, y_train)"
   ]
  },
  {
   "cell_type": "code",
   "execution_count": 305,
   "id": "59c33f7c",
   "metadata": {},
   "outputs": [
    {
     "name": "stdout",
     "output_type": "stream",
     "text": [
      "X_over: (11800, 5)\n",
      "y_over: (11800,)\n"
     ]
    },
    {
     "data": {
      "text/plain": [
       "0    5900\n",
       "1    5900\n",
       "Name: Buy, dtype: int64"
      ]
     },
     "execution_count": 305,
     "metadata": {},
     "output_type": "execute_result"
    }
   ],
   "source": [
    "# After Oversampling\n",
    "print('X_over:', X_train_over.shape)\n",
    "print('y_over:', y_train_over.shape)\n",
    "y_train_over.value_counts()"
   ]
  },
  {
   "cell_type": "markdown",
   "id": "e2eb8816",
   "metadata": {},
   "source": [
    "# Variable transformations after train_test_split"
   ]
  },
  {
   "cell_type": "code",
   "execution_count": 306,
   "id": "35e62a36",
   "metadata": {},
   "outputs": [],
   "source": [
    "X_train_over[\"GoogleAnalytics_PageValue\"]= power_transform(np.array(X_train_over.GoogleAnalytics_PageValue).reshape(-1, 1), method='yeo-johnson')\n",
    "X_val[\"GoogleAnalytics_PageValue\"]= power_transform(np.array(X_val.GoogleAnalytics_PageValue).reshape(-1, 1), method='yeo-johnson')"
   ]
  },
  {
   "cell_type": "markdown",
   "id": "156420ac",
   "metadata": {},
   "source": [
    "## Scale - MaxMin"
   ]
  },
  {
   "cell_type": "code",
   "execution_count": 27,
   "id": "bb8ee491",
   "metadata": {},
   "outputs": [],
   "source": [
    "# X_train.columns"
   ]
  },
  {
   "cell_type": "code",
   "execution_count": 28,
   "id": "0afe5cfc",
   "metadata": {},
   "outputs": [],
   "source": [
    "# # Define metric and non-metric features\n",
    "# non_metric_features = ['Type_of_Traffic', 'OS_type', 'Type_of_Visitor_type']\n",
    "# metric_features = X_over.columns.drop(non_metric_features).to_list()\n",
    "\n",
    "# print(non_metric_features)\n",
    "# print(metric_features)"
   ]
  },
  {
   "cell_type": "code",
   "execution_count": 29,
   "id": "691219ec",
   "metadata": {},
   "outputs": [],
   "source": [
    "# #separate numeric and non-numeric\n",
    "# X_train_num = X_train[metric_features]\n",
    "# X_train_cat = X_train[non_metric_features]\n",
    "# # DO IT for validation\n",
    "# X_val_num = X_val[metric_features]\n",
    "# X_val_cat = X_val[non_metric_features]"
   ]
  },
  {
   "cell_type": "code",
   "execution_count": 30,
   "id": "962d6182",
   "metadata": {},
   "outputs": [],
   "source": [
    "# scaler = MinMaxScaler().fit(X_train_num)\n",
    "# X_train_num_scaled = scaler.transform(X_train_num) # this will return an array\n",
    "# # Convert the array to a pandas dataframe\n",
    "# X_train_num_scaled = pd.DataFrame(X_train_num_scaled, columns = X_train_num.columns).set_index(X_train.index)\n",
    "# X_val_num_scaled = scaler.transform(X_val_num)\n",
    "# X_val_num_scaled = pd.DataFrame(X_val_num_scaled, columns = X_val_num.columns).set_index(X_val.index)"
   ]
  },
  {
   "cell_type": "code",
   "execution_count": 31,
   "id": "cb485d0b",
   "metadata": {},
   "outputs": [],
   "source": [
    "# X_train_scaled = pd.concat([X_train_num_scaled, X_train_cat], axis=1)\n",
    "# X_val_scaled = pd.concat([X_val_num_scaled, X_val_cat], axis=1)"
   ]
  },
  {
   "cell_type": "markdown",
   "id": "a388682f",
   "metadata": {},
   "source": [
    "## Logistic Model"
   ]
  },
  {
   "cell_type": "code",
   "execution_count": 307,
   "id": "1f06437c",
   "metadata": {},
   "outputs": [],
   "source": [
    "model_log = LogisticRegression(class_weight='balanced').fit(X_train_over, y_train_over)\n",
    "\n",
    "y_pred_train = model_log.predict(X_train_over)\n",
    "y_pred_val = model_log.predict(X_val)"
   ]
  },
  {
   "cell_type": "code",
   "execution_count": 308,
   "id": "33e1ebe6",
   "metadata": {},
   "outputs": [
    {
     "data": {
      "text/plain": [
       "array([[ 0.82179519,  1.28892916,  0.40947224, -6.09960176,  1.95101254]])"
      ]
     },
     "execution_count": 308,
     "metadata": {},
     "output_type": "execute_result"
    }
   ],
   "source": [
    "model_log.coef_"
   ]
  },
  {
   "cell_type": "code",
   "execution_count": 309,
   "id": "d572610b",
   "metadata": {},
   "outputs": [
    {
     "name": "stdout",
     "output_type": "stream",
     "text": [
      "confusion matrix\n",
      "[[2038  491]\n",
      " [  66  397]]\n",
      "accuracy: 0.8138368983957219\n",
      "precision: 0.44707207207207206\n",
      "recall: 0.857451403887689\n",
      "f1_train: 0.8331849741855084\n",
      "f1_val: 0.5877128053293856\n"
     ]
    }
   ],
   "source": [
    "# evaluation:\n",
    "print('confusion matrix')\n",
    "print(confusion_matrix(y_val, y_pred_val))\n",
    "\n",
    "print('accuracy:', accuracy_score(y_val, y_pred_val))\n",
    "print('precision:', precision_score(y_val, y_pred_val))\n",
    "print('recall:', recall_score(y_val, y_pred_val))\n",
    "print('f1_train:', f1_score(y_train_over, y_pred_train))\n",
    "print('f1_val:', f1_score(y_val, y_pred_val))"
   ]
  },
  {
   "cell_type": "code",
   "execution_count": 310,
   "id": "f3f08156",
   "metadata": {},
   "outputs": [
    {
     "name": "stdout",
     "output_type": "stream",
     "text": [
      "[[2357  172]\n",
      " [ 149  314]]\n",
      "precision: 0.6460905349794238\n",
      "f1_val: 0.6617492096944152\n"
     ]
    }
   ],
   "source": [
    "#low precision can be improved by increasing your threshold, making your model less sensitive\n",
    "y_pred_new_threshold = (model_log.predict_proba(X_val)[:,1]>=0.96).astype(int)\n",
    "y_pred_new_threshold\n",
    "print(confusion_matrix(y_val, y_pred_new_threshold))\n",
    "print('precision:', precision_score(y_val, y_pred_new_threshold))\n",
    "print('f1_val:', f1_score(y_val, y_pred_new_threshold))"
   ]
  },
  {
   "cell_type": "markdown",
   "id": "4be76955",
   "metadata": {},
   "source": [
    "## Dataset for test"
   ]
  },
  {
   "cell_type": "code",
   "execution_count": 264,
   "id": "13e65482",
   "metadata": {},
   "outputs": [],
   "source": [
    "test_set = pd.read_csv('test.csv')\n",
    "# test_set.set_index('Access_ID', inplace = True)"
   ]
  },
  {
   "cell_type": "code",
   "execution_count": 265,
   "id": "ed5aeead",
   "metadata": {},
   "outputs": [
    {
     "name": "stdout",
     "output_type": "stream",
     "text": [
      "<class 'pandas.core.frame.DataFrame'>\n",
      "RangeIndex: 2300 entries, 0 to 2299\n",
      "Data columns (total 16 columns):\n",
      " #   Column                      Non-Null Count  Dtype  \n",
      "---  ------                      --------------  -----  \n",
      " 0   Access_ID                   2300 non-null   int64  \n",
      " 1   Date                        2300 non-null   object \n",
      " 2   AccountMng_Pages            2300 non-null   int64  \n",
      " 3   AccountMng_Duration         2300 non-null   float64\n",
      " 4   FAQ_Pages                   2300 non-null   int64  \n",
      " 5   FAQ_Duration                2300 non-null   float64\n",
      " 6   Product_Pages               2300 non-null   int64  \n",
      " 7   Product_Duration            2300 non-null   float64\n",
      " 8   GoogleAnalytics_BounceRate  2300 non-null   float64\n",
      " 9   GoogleAnalytics_ExitRate    2300 non-null   float64\n",
      " 10  GoogleAnalytics_PageValue   2300 non-null   float64\n",
      " 11  OS                          2300 non-null   object \n",
      " 12  Browser                     2300 non-null   int64  \n",
      " 13  Country                     2300 non-null   object \n",
      " 14  Type_of_Traffic             2300 non-null   int64  \n",
      " 15  Type_of_Visitor             2300 non-null   object \n",
      "dtypes: float64(6), int64(6), object(4)\n",
      "memory usage: 287.6+ KB\n"
     ]
    }
   ],
   "source": [
    "test_set.info()"
   ]
  },
  {
   "cell_type": "code",
   "execution_count": 266,
   "id": "aa119d66",
   "metadata": {},
   "outputs": [
    {
     "data": {
      "text/html": [
       "<div>\n",
       "<style scoped>\n",
       "    .dataframe tbody tr th:only-of-type {\n",
       "        vertical-align: middle;\n",
       "    }\n",
       "\n",
       "    .dataframe tbody tr th {\n",
       "        vertical-align: top;\n",
       "    }\n",
       "\n",
       "    .dataframe thead th {\n",
       "        text-align: right;\n",
       "    }\n",
       "</style>\n",
       "<table border=\"1\" class=\"dataframe\">\n",
       "  <thead>\n",
       "    <tr style=\"text-align: right;\">\n",
       "      <th></th>\n",
       "      <th>Access_ID</th>\n",
       "      <th>Date</th>\n",
       "      <th>AccountMng_Pages</th>\n",
       "      <th>AccountMng_Duration</th>\n",
       "      <th>FAQ_Pages</th>\n",
       "      <th>FAQ_Duration</th>\n",
       "      <th>Product_Pages</th>\n",
       "      <th>Product_Duration</th>\n",
       "      <th>GoogleAnalytics_BounceRate</th>\n",
       "      <th>GoogleAnalytics_ExitRate</th>\n",
       "      <th>GoogleAnalytics_PageValue</th>\n",
       "      <th>OS</th>\n",
       "      <th>Browser</th>\n",
       "      <th>Country</th>\n",
       "      <th>Type_of_Traffic</th>\n",
       "      <th>Type_of_Visitor</th>\n",
       "    </tr>\n",
       "  </thead>\n",
       "  <tbody>\n",
       "    <tr>\n",
       "      <th>0</th>\n",
       "      <td>798519314</td>\n",
       "      <td>24-Aug-20</td>\n",
       "      <td>0</td>\n",
       "      <td>0.00</td>\n",
       "      <td>0</td>\n",
       "      <td>0.0</td>\n",
       "      <td>86</td>\n",
       "      <td>5332.5478</td>\n",
       "      <td>0.0139</td>\n",
       "      <td>0.0654</td>\n",
       "      <td>0.0000</td>\n",
       "      <td>Windows</td>\n",
       "      <td>2</td>\n",
       "      <td>Brazil</td>\n",
       "      <td>1</td>\n",
       "      <td>Returner</td>\n",
       "    </tr>\n",
       "    <tr>\n",
       "      <th>1</th>\n",
       "      <td>798663101</td>\n",
       "      <td>25-May-20</td>\n",
       "      <td>2</td>\n",
       "      <td>37.50</td>\n",
       "      <td>0</td>\n",
       "      <td>0.0</td>\n",
       "      <td>55</td>\n",
       "      <td>1420.4725</td>\n",
       "      <td>0.0012</td>\n",
       "      <td>0.0058</td>\n",
       "      <td>0.0000</td>\n",
       "      <td>Android</td>\n",
       "      <td>1</td>\n",
       "      <td>Spain</td>\n",
       "      <td>4</td>\n",
       "      <td>Returner</td>\n",
       "    </tr>\n",
       "    <tr>\n",
       "      <th>2</th>\n",
       "      <td>798663221</td>\n",
       "      <td>2-Nov-20</td>\n",
       "      <td>0</td>\n",
       "      <td>0.00</td>\n",
       "      <td>0</td>\n",
       "      <td>0.0</td>\n",
       "      <td>36</td>\n",
       "      <td>788.5000</td>\n",
       "      <td>0.0000</td>\n",
       "      <td>0.0250</td>\n",
       "      <td>0.0000</td>\n",
       "      <td>Windows</td>\n",
       "      <td>6</td>\n",
       "      <td>Spain</td>\n",
       "      <td>3</td>\n",
       "      <td>Returner</td>\n",
       "    </tr>\n",
       "    <tr>\n",
       "      <th>3</th>\n",
       "      <td>798760918</td>\n",
       "      <td>14-May-20</td>\n",
       "      <td>0</td>\n",
       "      <td>0.00</td>\n",
       "      <td>0</td>\n",
       "      <td>0.0</td>\n",
       "      <td>2</td>\n",
       "      <td>689.0000</td>\n",
       "      <td>0.0000</td>\n",
       "      <td>0.1000</td>\n",
       "      <td>0.0000</td>\n",
       "      <td>Windows</td>\n",
       "      <td>2</td>\n",
       "      <td>Spain</td>\n",
       "      <td>2</td>\n",
       "      <td>New_Access</td>\n",
       "    </tr>\n",
       "    <tr>\n",
       "      <th>4</th>\n",
       "      <td>798856982</td>\n",
       "      <td>5-Nov-20</td>\n",
       "      <td>12</td>\n",
       "      <td>225.25</td>\n",
       "      <td>1</td>\n",
       "      <td>0.0</td>\n",
       "      <td>129</td>\n",
       "      <td>3367.0413</td>\n",
       "      <td>0.0014</td>\n",
       "      <td>0.0185</td>\n",
       "      <td>1.0353</td>\n",
       "      <td>Windows</td>\n",
       "      <td>4</td>\n",
       "      <td>Portugal</td>\n",
       "      <td>10</td>\n",
       "      <td>Returner</td>\n",
       "    </tr>\n",
       "  </tbody>\n",
       "</table>\n",
       "</div>"
      ],
      "text/plain": [
       "   Access_ID       Date  AccountMng_Pages  AccountMng_Duration  FAQ_Pages  \\\n",
       "0  798519314  24-Aug-20                 0                 0.00          0   \n",
       "1  798663101  25-May-20                 2                37.50          0   \n",
       "2  798663221   2-Nov-20                 0                 0.00          0   \n",
       "3  798760918  14-May-20                 0                 0.00          0   \n",
       "4  798856982   5-Nov-20                12               225.25          1   \n",
       "\n",
       "   FAQ_Duration  Product_Pages  Product_Duration  GoogleAnalytics_BounceRate  \\\n",
       "0           0.0             86         5332.5478                      0.0139   \n",
       "1           0.0             55         1420.4725                      0.0012   \n",
       "2           0.0             36          788.5000                      0.0000   \n",
       "3           0.0              2          689.0000                      0.0000   \n",
       "4           0.0            129         3367.0413                      0.0014   \n",
       "\n",
       "   GoogleAnalytics_ExitRate  GoogleAnalytics_PageValue       OS  Browser  \\\n",
       "0                    0.0654                     0.0000  Windows        2   \n",
       "1                    0.0058                     0.0000  Android        1   \n",
       "2                    0.0250                     0.0000  Windows        6   \n",
       "3                    0.1000                     0.0000  Windows        2   \n",
       "4                    0.0185                     1.0353  Windows        4   \n",
       "\n",
       "    Country  Type_of_Traffic Type_of_Visitor  \n",
       "0    Brazil                1        Returner  \n",
       "1     Spain                4        Returner  \n",
       "2     Spain                3        Returner  \n",
       "3     Spain                2      New_Access  \n",
       "4  Portugal               10        Returner  "
      ]
     },
     "execution_count": 266,
     "metadata": {},
     "output_type": "execute_result"
    }
   ],
   "source": [
    "test_set.head()"
   ]
  },
  {
   "cell_type": "code",
   "execution_count": 267,
   "id": "c232ddc6",
   "metadata": {},
   "outputs": [
    {
     "data": {
      "text/html": [
       "<div>\n",
       "<style scoped>\n",
       "    .dataframe tbody tr th:only-of-type {\n",
       "        vertical-align: middle;\n",
       "    }\n",
       "\n",
       "    .dataframe tbody tr th {\n",
       "        vertical-align: top;\n",
       "    }\n",
       "\n",
       "    .dataframe thead th {\n",
       "        text-align: right;\n",
       "    }\n",
       "</style>\n",
       "<table border=\"1\" class=\"dataframe\">\n",
       "  <thead>\n",
       "    <tr style=\"text-align: right;\">\n",
       "      <th></th>\n",
       "      <th>count</th>\n",
       "      <th>mean</th>\n",
       "      <th>std</th>\n",
       "      <th>min</th>\n",
       "      <th>25%</th>\n",
       "      <th>50%</th>\n",
       "      <th>75%</th>\n",
       "      <th>max</th>\n",
       "    </tr>\n",
       "  </thead>\n",
       "  <tbody>\n",
       "    <tr>\n",
       "      <th>Access_ID</th>\n",
       "      <td>2300.0</td>\n",
       "      <td>8.804779e+08</td>\n",
       "      <td>4.702750e+07</td>\n",
       "      <td>798519314.0</td>\n",
       "      <td>8.401491e+08</td>\n",
       "      <td>8.804244e+08</td>\n",
       "      <td>9.208468e+08</td>\n",
       "      <td>9.622187e+08</td>\n",
       "    </tr>\n",
       "    <tr>\n",
       "      <th>AccountMng_Pages</th>\n",
       "      <td>2300.0</td>\n",
       "      <td>2.290000e+00</td>\n",
       "      <td>3.252300e+00</td>\n",
       "      <td>0.0</td>\n",
       "      <td>0.000000e+00</td>\n",
       "      <td>1.000000e+00</td>\n",
       "      <td>4.000000e+00</td>\n",
       "      <td>2.300000e+01</td>\n",
       "    </tr>\n",
       "    <tr>\n",
       "      <th>AccountMng_Duration</th>\n",
       "      <td>2300.0</td>\n",
       "      <td>7.978093e+01</td>\n",
       "      <td>1.644476e+02</td>\n",
       "      <td>0.0</td>\n",
       "      <td>0.000000e+00</td>\n",
       "      <td>8.550000e+00</td>\n",
       "      <td>9.785000e+01</td>\n",
       "      <td>2.720500e+03</td>\n",
       "    </tr>\n",
       "    <tr>\n",
       "      <th>FAQ_Pages</th>\n",
       "      <td>2300.0</td>\n",
       "      <td>4.865217e-01</td>\n",
       "      <td>1.234311e+00</td>\n",
       "      <td>0.0</td>\n",
       "      <td>0.000000e+00</td>\n",
       "      <td>0.000000e+00</td>\n",
       "      <td>0.000000e+00</td>\n",
       "      <td>1.200000e+01</td>\n",
       "    </tr>\n",
       "    <tr>\n",
       "      <th>FAQ_Duration</th>\n",
       "      <td>2300.0</td>\n",
       "      <td>3.426683e+01</td>\n",
       "      <td>1.455007e+02</td>\n",
       "      <td>0.0</td>\n",
       "      <td>0.000000e+00</td>\n",
       "      <td>0.000000e+00</td>\n",
       "      <td>0.000000e+00</td>\n",
       "      <td>2.252033e+03</td>\n",
       "    </tr>\n",
       "    <tr>\n",
       "      <th>Product_Pages</th>\n",
       "      <td>2300.0</td>\n",
       "      <td>3.192870e+01</td>\n",
       "      <td>4.415023e+01</td>\n",
       "      <td>0.0</td>\n",
       "      <td>8.000000e+00</td>\n",
       "      <td>1.800000e+01</td>\n",
       "      <td>3.800000e+01</td>\n",
       "      <td>5.340000e+02</td>\n",
       "    </tr>\n",
       "    <tr>\n",
       "      <th>Product_Duration</th>\n",
       "      <td>2300.0</td>\n",
       "      <td>1.172039e+03</td>\n",
       "      <td>1.702731e+03</td>\n",
       "      <td>0.0</td>\n",
       "      <td>1.868750e+02</td>\n",
       "      <td>5.986893e+02</td>\n",
       "      <td>1.439535e+03</td>\n",
       "      <td>1.850413e+04</td>\n",
       "    </tr>\n",
       "    <tr>\n",
       "      <th>GoogleAnalytics_BounceRate</th>\n",
       "      <td>2300.0</td>\n",
       "      <td>2.170235e-02</td>\n",
       "      <td>4.721379e-02</td>\n",
       "      <td>0.0</td>\n",
       "      <td>0.000000e+00</td>\n",
       "      <td>2.900000e-03</td>\n",
       "      <td>1.675000e-02</td>\n",
       "      <td>2.000000e-01</td>\n",
       "    </tr>\n",
       "    <tr>\n",
       "      <th>GoogleAnalytics_ExitRate</th>\n",
       "      <td>2300.0</td>\n",
       "      <td>4.256478e-02</td>\n",
       "      <td>4.753867e-02</td>\n",
       "      <td>0.0</td>\n",
       "      <td>1.427500e-02</td>\n",
       "      <td>2.520000e-02</td>\n",
       "      <td>5.000000e-02</td>\n",
       "      <td>2.000000e-01</td>\n",
       "    </tr>\n",
       "    <tr>\n",
       "      <th>GoogleAnalytics_PageValue</th>\n",
       "      <td>2300.0</td>\n",
       "      <td>5.588465e+00</td>\n",
       "      <td>1.778171e+01</td>\n",
       "      <td>0.0</td>\n",
       "      <td>0.000000e+00</td>\n",
       "      <td>0.000000e+00</td>\n",
       "      <td>0.000000e+00</td>\n",
       "      <td>2.585499e+02</td>\n",
       "    </tr>\n",
       "    <tr>\n",
       "      <th>Browser</th>\n",
       "      <td>2300.0</td>\n",
       "      <td>2.366087e+00</td>\n",
       "      <td>1.701233e+00</td>\n",
       "      <td>1.0</td>\n",
       "      <td>2.000000e+00</td>\n",
       "      <td>2.000000e+00</td>\n",
       "      <td>2.000000e+00</td>\n",
       "      <td>1.300000e+01</td>\n",
       "    </tr>\n",
       "    <tr>\n",
       "      <th>Type_of_Traffic</th>\n",
       "      <td>2300.0</td>\n",
       "      <td>4.012609e+00</td>\n",
       "      <td>3.710291e+00</td>\n",
       "      <td>1.0</td>\n",
       "      <td>2.000000e+00</td>\n",
       "      <td>2.000000e+00</td>\n",
       "      <td>4.000000e+00</td>\n",
       "      <td>1.500000e+01</td>\n",
       "    </tr>\n",
       "  </tbody>\n",
       "</table>\n",
       "</div>"
      ],
      "text/plain": [
       "                             count          mean           std          min  \\\n",
       "Access_ID                   2300.0  8.804779e+08  4.702750e+07  798519314.0   \n",
       "AccountMng_Pages            2300.0  2.290000e+00  3.252300e+00          0.0   \n",
       "AccountMng_Duration         2300.0  7.978093e+01  1.644476e+02          0.0   \n",
       "FAQ_Pages                   2300.0  4.865217e-01  1.234311e+00          0.0   \n",
       "FAQ_Duration                2300.0  3.426683e+01  1.455007e+02          0.0   \n",
       "Product_Pages               2300.0  3.192870e+01  4.415023e+01          0.0   \n",
       "Product_Duration            2300.0  1.172039e+03  1.702731e+03          0.0   \n",
       "GoogleAnalytics_BounceRate  2300.0  2.170235e-02  4.721379e-02          0.0   \n",
       "GoogleAnalytics_ExitRate    2300.0  4.256478e-02  4.753867e-02          0.0   \n",
       "GoogleAnalytics_PageValue   2300.0  5.588465e+00  1.778171e+01          0.0   \n",
       "Browser                     2300.0  2.366087e+00  1.701233e+00          1.0   \n",
       "Type_of_Traffic             2300.0  4.012609e+00  3.710291e+00          1.0   \n",
       "\n",
       "                                     25%           50%           75%  \\\n",
       "Access_ID                   8.401491e+08  8.804244e+08  9.208468e+08   \n",
       "AccountMng_Pages            0.000000e+00  1.000000e+00  4.000000e+00   \n",
       "AccountMng_Duration         0.000000e+00  8.550000e+00  9.785000e+01   \n",
       "FAQ_Pages                   0.000000e+00  0.000000e+00  0.000000e+00   \n",
       "FAQ_Duration                0.000000e+00  0.000000e+00  0.000000e+00   \n",
       "Product_Pages               8.000000e+00  1.800000e+01  3.800000e+01   \n",
       "Product_Duration            1.868750e+02  5.986893e+02  1.439535e+03   \n",
       "GoogleAnalytics_BounceRate  0.000000e+00  2.900000e-03  1.675000e-02   \n",
       "GoogleAnalytics_ExitRate    1.427500e-02  2.520000e-02  5.000000e-02   \n",
       "GoogleAnalytics_PageValue   0.000000e+00  0.000000e+00  0.000000e+00   \n",
       "Browser                     2.000000e+00  2.000000e+00  2.000000e+00   \n",
       "Type_of_Traffic             2.000000e+00  2.000000e+00  4.000000e+00   \n",
       "\n",
       "                                     max  \n",
       "Access_ID                   9.622187e+08  \n",
       "AccountMng_Pages            2.300000e+01  \n",
       "AccountMng_Duration         2.720500e+03  \n",
       "FAQ_Pages                   1.200000e+01  \n",
       "FAQ_Duration                2.252033e+03  \n",
       "Product_Pages               5.340000e+02  \n",
       "Product_Duration            1.850413e+04  \n",
       "GoogleAnalytics_BounceRate  2.000000e-01  \n",
       "GoogleAnalytics_ExitRate    2.000000e-01  \n",
       "GoogleAnalytics_PageValue   2.585499e+02  \n",
       "Browser                     1.300000e+01  \n",
       "Type_of_Traffic             1.500000e+01  "
      ]
     },
     "execution_count": 267,
     "metadata": {},
     "output_type": "execute_result"
    }
   ],
   "source": [
    "test_set.describe().T"
   ]
  },
  {
   "cell_type": "code",
   "execution_count": 39,
   "id": "630a1a8d",
   "metadata": {},
   "outputs": [
    {
     "data": {
      "text/plain": [
       "array(['Windows', 'Android', 'MacOSX', 'iOS', 'Fedora', 'Chrome OS',\n",
       "       'Other', 'Ubuntu'], dtype=object)"
      ]
     },
     "execution_count": 39,
     "metadata": {},
     "output_type": "execute_result"
    }
   ],
   "source": [
    "test_set['Type_of_Visitor'].unique()\n",
    "test_set['OS'].unique()"
   ]
  },
  {
   "cell_type": "code",
   "execution_count": 269,
   "id": "ea13f976",
   "metadata": {},
   "outputs": [],
   "source": [
    "# select the columns for the model\n",
    "\n",
    "# 0 - PC/ 1 - Mobile\n",
    "dict_os = {'MacOSX': 0, 'Windows': 0, 'Android': 0, 'Ubuntu': 0, 'iOS': 1, 'Other': 0, 'Fedora': 0, 'Chrome OS':0}\n",
    "test_set['OS_type'] = test_set['OS'].map(dict_os)\n",
    "\n",
    "# 0 - Returner/ 1 - New_Access/ 2 - Other\n",
    "dict_visitor = {'Returner': 0, 'New_Access': 1, 'Other': 0}\n",
    "test_set['Type_of_Visitor_type'] = test_set['Type_of_Visitor'].map(dict_visitor)\n",
    "\n",
    "#months variable\n",
    "test_set['Date'] = pd.to_datetime(test_set['Date'], format='%d-%b-%y')\n",
    "test_set[\"Month\"]=test_set[\"Date\"].map(lambda x: x.month)\n",
    "test_set[\"Months_high\"]=test_set[\"Month\"].map(lambda x: 1 if x>7 & x<12 else 0)\n",
    "\n",
    "#type of traffic\n",
    "test_set[\"Type_of_Traffic_high\"]=test_set[\"Type_of_Traffic\"].map(lambda x: 1 if (x in [7,8,15]) else 0)\n",
    "test_set[\"Type_of_Traffic_high\"].value_counts()\n",
    "\n",
    "test_set[\"GoogleAnalytics_PageValue\"]= power_transform(np.array(test_set.GoogleAnalytics_PageValue).reshape(-1, 1), method='yeo-johnson')\n",
    "\n",
    "test = test_set[[\"Type_of_Traffic_high\",\"Months_high\",\"Type_of_Visitor_type\",'GoogleAnalytics_ExitRate',  'GoogleAnalytics_PageValue']]"
   ]
  },
  {
   "cell_type": "code",
   "execution_count": 270,
   "id": "3c9704f6",
   "metadata": {},
   "outputs": [
    {
     "data": {
      "text/plain": [
       "Index(['Type_of_Traffic_high', 'Months_high', 'Type_of_Visitor_type',\n",
       "       'GoogleAnalytics_ExitRate', 'GoogleAnalytics_PageValue'],\n",
       "      dtype='object')"
      ]
     },
     "execution_count": 270,
     "metadata": {},
     "output_type": "execute_result"
    }
   ],
   "source": [
    "test.columns"
   ]
  },
  {
   "cell_type": "code",
   "execution_count": 271,
   "id": "b36c4125",
   "metadata": {},
   "outputs": [],
   "source": [
    "y_pred_test = model_log.predict(test)"
   ]
  },
  {
   "cell_type": "code",
   "execution_count": 276,
   "id": "7666a75d",
   "metadata": {},
   "outputs": [],
   "source": [
    "y_pred_new_threshold = (model_log.predict_proba(test)[:,1]>=0.96).astype(int)"
   ]
  },
  {
   "cell_type": "code",
   "execution_count": 278,
   "id": "acf55aaa",
   "metadata": {},
   "outputs": [],
   "source": [
    "df_submission = pd.concat([test_set['Access_ID'], pd.DataFrame(columns=['Buy'], data=y_pred_new_threshold)], axis=1)"
   ]
  },
  {
   "cell_type": "code",
   "execution_count": 279,
   "id": "29c6b7f1",
   "metadata": {
    "scrolled": true
   },
   "outputs": [
    {
     "data": {
      "text/plain": [
       "0    1889\n",
       "1     411\n",
       "Name: Buy, dtype: int64"
      ]
     },
     "execution_count": 279,
     "metadata": {},
     "output_type": "execute_result"
    }
   ],
   "source": [
    "df_submission['Buy'].value_counts()"
   ]
  },
  {
   "cell_type": "code",
   "execution_count": 280,
   "id": "7eb61c49",
   "metadata": {},
   "outputs": [],
   "source": [
    "df_submission.to_csv('logistic_over_noscale_lessfeatures_newfeats_newthresh.csv', index=False)"
   ]
  }
 ],
 "metadata": {
  "kernelspec": {
   "display_name": "Python 3",
   "language": "python",
   "name": "python3"
  },
  "language_info": {
   "codemirror_mode": {
    "name": "ipython",
    "version": 3
   },
   "file_extension": ".py",
   "mimetype": "text/x-python",
   "name": "python",
   "nbconvert_exporter": "python",
   "pygments_lexer": "ipython3",
   "version": "3.8.8"
  }
 },
 "nbformat": 4,
 "nbformat_minor": 5
}
