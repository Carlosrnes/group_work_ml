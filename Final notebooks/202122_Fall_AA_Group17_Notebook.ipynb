{
 "cells": [
  {
   "cell_type": "code",
   "execution_count": 1,
   "id": "2fe6d2c9",
   "metadata": {},
   "outputs": [],
   "source": [
    "#import packages\n",
    "import numpy as np\n",
    "import pandas as pd\n",
    "import matplotlib.pyplot as plt\n",
    "import seaborn as sns\n",
    "\n",
    "# data partition/scaling\n",
    "from sklearn.model_selection import train_test_split\n",
    "from sklearn.preprocessing import PowerTransformer\n",
    "\n",
    "# models\n",
    "from sklearn.linear_model import LogisticRegression\n",
    "\n",
    "# metric\n",
    "from sklearn.metrics import confusion_matrix\n",
    "from sklearn.metrics import accuracy_score\n",
    "from sklearn.metrics import precision_score\n",
    "from sklearn.metrics import recall_score\n",
    "from sklearn.metrics import f1_score\n",
    "\n",
    "import warnings\n",
    "warnings.filterwarnings('ignore')"
   ]
  },
  {
   "cell_type": "code",
   "execution_count": 2,
   "id": "2c1fb1d4",
   "metadata": {},
   "outputs": [],
   "source": [
    "# open the dataset\n",
    "df = pd.read_csv('train.csv')"
   ]
  },
  {
   "cell_type": "markdown",
   "id": "3bd9c8eb",
   "metadata": {},
   "source": [
    "## Feature Engineering"
   ]
  },
  {
   "cell_type": "code",
   "execution_count": 3,
   "id": "2e919ed7",
   "metadata": {},
   "outputs": [],
   "source": [
    "# Converting Date type from object to datetime\n",
    "df['Date'] = pd.to_datetime(df['Date'], format='%d-%b-%y')\n",
    "# creating variables from month data\n",
    "df[\"Month\"]=df[\"Date\"].map(lambda x: x.month)\n",
    "df[\"Months_high\"]=df[\"Month\"].map(lambda x: 1 if x>7 & x<12 else 0)"
   ]
  },
  {
   "cell_type": "code",
   "execution_count": 4,
   "id": "f43902e8",
   "metadata": {},
   "outputs": [],
   "source": [
    "# 0 - Returner/ 1 - New_Access/ 2 - Other\n",
    "dict_visitor = {'Returner': 0, 'New_Access': 1, 'Other': 0}\n",
    "df['Type_of_Visitor_new'] = df['Type_of_Visitor'].map(dict_visitor)\n",
    "dict_visitor = {'Returner': 1, 'New_Access': 0, 'Other': 0}\n",
    "df['Type_of_Visitor_return'] = df['Type_of_Visitor'].map(dict_visitor)"
   ]
  },
  {
   "cell_type": "markdown",
   "id": "ef26bd46",
   "metadata": {},
   "source": [
    "# Train Test Split"
   ]
  },
  {
   "cell_type": "code",
   "execution_count": 5,
   "id": "f19b4c0a",
   "metadata": {},
   "outputs": [],
   "source": [
    "df_model = df[[\"Months_high\",\"Type_of_Visitor_return\",'GoogleAnalytics_ExitRate',  'GoogleAnalytics_PageValue',\"Buy\"]]"
   ]
  },
  {
   "cell_type": "code",
   "execution_count": 6,
   "id": "15159ce7",
   "metadata": {},
   "outputs": [],
   "source": [
    "X = df_model.drop('Buy', axis=1)\n",
    "y = df_model['Buy']"
   ]
  },
  {
   "cell_type": "code",
   "execution_count": 7,
   "id": "cecbfca2",
   "metadata": {},
   "outputs": [],
   "source": [
    "# split the dataset\n",
    "X_train, X_val, y_train, y_val = train_test_split(X, y, test_size=0.01, random_state=5, stratify=y)"
   ]
  },
  {
   "cell_type": "markdown",
   "id": "e2eb8816",
   "metadata": {},
   "source": [
    "# Variable power transformations after train_test_split"
   ]
  },
  {
   "cell_type": "code",
   "execution_count": 8,
   "id": "793cf1d3",
   "metadata": {},
   "outputs": [],
   "source": [
    "# Define metric and non-metric features\n",
    "metric_features = ['GoogleAnalytics_ExitRate', 'GoogleAnalytics_PageValue']\n",
    "non_metric_features = X.columns.drop(metric_features).to_list()"
   ]
  },
  {
   "cell_type": "code",
   "execution_count": 9,
   "id": "7049e9cc",
   "metadata": {},
   "outputs": [],
   "source": [
    "#separate numeric and non-numeric\n",
    "X_train_num = X_train[metric_features]\n",
    "X_train_cat = X_train[non_metric_features]\n",
    "# DO IT for validation\n",
    "X_val_num = X_val[metric_features]\n",
    "X_val_cat = X_val[non_metric_features]"
   ]
  },
  {
   "cell_type": "code",
   "execution_count": 10,
   "id": "ddc08cb2",
   "metadata": {},
   "outputs": [],
   "source": [
    "#use train to power transform train\n",
    "power = PowerTransformer().fit(X_train_num)\n",
    "X_train_num_power = power.transform(X_train_num)\n",
    "X_train_num_power = pd.DataFrame(X_train_num_power, columns = X_train_num.columns).set_index(X_train_num.index)\n",
    "\n",
    "#and for validation (using train data)\n",
    "X_val_num_power = power.transform(X_val_num)\n",
    "# Convert the array to a pandas dataframe\n",
    "X_val_num_power = pd.DataFrame(X_val_num_power, columns = X_val_num.columns).set_index(X_val_num.index)\n",
    "X_val_num_power.head(3)\n",
    "\n",
    "X_train_power = pd.concat([X_train_num_power, X_train_cat], axis=1)\n",
    "X_val_power = pd.concat([X_val_num_power, X_val_cat], axis=1)"
   ]
  },
  {
   "cell_type": "markdown",
   "id": "9c9e6fa2",
   "metadata": {},
   "source": [
    "## Balance the training set - undersampling"
   ]
  },
  {
   "cell_type": "code",
   "execution_count": 11,
   "id": "80f24867",
   "metadata": {},
   "outputs": [
    {
     "data": {
      "text/plain": [
       "0    8363\n",
       "1    1536\n",
       "Name: Buy, dtype: int64"
      ]
     },
     "execution_count": 11,
     "metadata": {},
     "output_type": "execute_result"
    }
   ],
   "source": [
    "# Before undersampling\n",
    "y_train.value_counts()"
   ]
  },
  {
   "cell_type": "code",
   "execution_count": 12,
   "id": "7df1e102",
   "metadata": {},
   "outputs": [],
   "source": [
    "#joining y_train and x_train\n",
    "under_df = pd.concat([X_train_power,y_train],axis=1)"
   ]
  },
  {
   "cell_type": "code",
   "execution_count": 13,
   "id": "dfa77aae",
   "metadata": {},
   "outputs": [],
   "source": [
    "#we randomly undersample our negative data until negatives our buy rate is 20% \n",
    "negative = under_df.loc[under_df.Buy==0]\n",
    "positive = under_df.loc[under_df.Buy==1]\n",
    "# shuffling the negative data\n",
    "negative = negative.sample(frac=1, random_state=0)\n",
    "# selecting 4 times the length of positive data\n",
    "negative_under = negative[:int(4*len(positive))]\n",
    "# concatinating dataset\n",
    "df_under = pd.concat([positive,negative_under],axis=0)\n",
    "#shuffling\n",
    "df_under = df_under.sample(frac=1, random_state=0)"
   ]
  },
  {
   "cell_type": "code",
   "execution_count": 14,
   "id": "988238f3",
   "metadata": {},
   "outputs": [
    {
     "data": {
      "text/plain": [
       "0    6144\n",
       "1    1536\n",
       "Name: Buy, dtype: int64"
      ]
     },
     "execution_count": 14,
     "metadata": {},
     "output_type": "execute_result"
    }
   ],
   "source": [
    "# After undersampling\n",
    "X_train_power = df_under.drop('Buy', axis=1)\n",
    "y_train_under = df_under['Buy']\n",
    "y_train_under.value_counts()"
   ]
  },
  {
   "cell_type": "markdown",
   "id": "eb970021",
   "metadata": {},
   "source": [
    "# final model"
   ]
  },
  {
   "cell_type": "code",
   "execution_count": 15,
   "id": "370fed62",
   "metadata": {},
   "outputs": [
    {
     "data": {
      "text/plain": [
       "array([[-0.34881148,  1.51668393,  1.42534148, -0.52842918]])"
      ]
     },
     "execution_count": 15,
     "metadata": {},
     "output_type": "execute_result"
    }
   ],
   "source": [
    "# model with 25% test set, undersampling of length 4, and 4 variables\n",
    "model_log = LogisticRegression(class_weight='balanced',solver='lbfgs',tol=.01).fit(X_train_power, y_train_under)\n",
    "\n",
    "y_pred_train = model_log.predict(X_train_power)\n",
    "y_pred_val = model_log.predict(X_val_power)\n",
    "model_log.coef_"
   ]
  },
  {
   "cell_type": "code",
   "execution_count": 16,
   "id": "4697b243",
   "metadata": {},
   "outputs": [
    {
     "name": "stdout",
     "output_type": "stream",
     "text": [
      "f1_train: 0.7143270622286542\n",
      "[[72 12]\n",
      " [ 7  9]]\n",
      "precision: 0.42857142857142855\n",
      "f1_val: 0.4864864864864864\n",
      "True validation is .664, this value is so low because we training with 99% of the data for the last submission to kaggle\n"
     ]
    }
   ],
   "source": [
    "#### low precision can be improved slightly by increasing your threshold, making your model less sensitive\n",
    "y_pred_val_new_threshold = (model_log.predict_proba(X_val_power)[:,1]>=0.75).astype(int)\n",
    "print('f1_train:', f1_score(y_train_under, y_pred_train))\n",
    "print(confusion_matrix(y_val, y_pred_val_new_threshold))\n",
    "print('precision:', precision_score(y_val, y_pred_val_new_threshold))\n",
    "print('f1_val:', f1_score(y_val, y_pred_val_new_threshold))\n",
    "print('True validation is .664, this value is so low because we training with 99% of the data for the last submission to kaggle')"
   ]
  },
  {
   "cell_type": "markdown",
   "id": "4be76955",
   "metadata": {},
   "source": [
    "## Dataset for test"
   ]
  },
  {
   "cell_type": "code",
   "execution_count": 17,
   "id": "13e65482",
   "metadata": {},
   "outputs": [],
   "source": [
    "test_set = pd.read_csv('test.csv')"
   ]
  },
  {
   "cell_type": "code",
   "execution_count": 18,
   "id": "ea13f976",
   "metadata": {},
   "outputs": [],
   "source": [
    "# select the columns for the model\n",
    "\n",
    "# 0 - Returner/ 1 - New_Access/ 2 - Other\n",
    "dict_visitor = {'Returner': 1, 'New_Access': 0, 'Other': 0}\n",
    "test_set['Type_of_Visitor_return'] = test_set['Type_of_Visitor'].map(dict_visitor)\n",
    "\n",
    "#months variable\n",
    "test_set['Date'] = pd.to_datetime(test_set['Date'], format='%d-%b-%y')\n",
    "test_set[\"Month\"]=test_set[\"Date\"].map(lambda x: x.month)\n",
    "test_set[\"Months_high\"]=test_set[\"Month\"].map(lambda x: 1 if x>7 & x<12 else 0)\n",
    "\n",
    "test = test_set[[\"Months_high\",\"Type_of_Visitor_return\",\n",
    "                 'GoogleAnalytics_ExitRate', 'GoogleAnalytics_PageValue']]"
   ]
  },
  {
   "cell_type": "code",
   "execution_count": 19,
   "id": "00f771c8",
   "metadata": {},
   "outputs": [
    {
     "data": {
      "text/plain": [
       "Index(['GoogleAnalytics_ExitRate', 'GoogleAnalytics_PageValue', 'Months_high',\n",
       "       'Type_of_Visitor_return'],\n",
       "      dtype='object')"
      ]
     },
     "execution_count": 19,
     "metadata": {},
     "output_type": "execute_result"
    }
   ],
   "source": [
    "#define numeric features\n",
    "metric_features = ['GoogleAnalytics_ExitRate','GoogleAnalytics_PageValue']\n",
    "non_metric_features = X.columns.drop(metric_features).to_list()\n",
    "test_num = test[metric_features]\n",
    "test_cat = test[non_metric_features]\n",
    "\n",
    "#power transform - still using training dataset\n",
    "test_num_power = power.transform(test_num)\n",
    "test_num_power = pd.DataFrame(test_num_power, columns = test_num.columns).set_index(test_num.index)\n",
    "\n",
    "test_power = pd.concat([test_num_power, test_cat], axis=1)\n",
    "test_power.columns"
   ]
  },
  {
   "cell_type": "code",
   "execution_count": 20,
   "id": "7666a75d",
   "metadata": {},
   "outputs": [],
   "source": [
    "y_pred_new_threshold = (model_log.predict_proba(test_power)[:,1]>=0.75).astype(int)"
   ]
  },
  {
   "cell_type": "code",
   "execution_count": 21,
   "id": "acf55aaa",
   "metadata": {},
   "outputs": [
    {
     "data": {
      "text/plain": [
       "0    1879\n",
       "1     421\n",
       "Name: Buy, dtype: int64"
      ]
     },
     "execution_count": 21,
     "metadata": {},
     "output_type": "execute_result"
    }
   ],
   "source": [
    "df_submission = pd.concat([test_set['Access_ID'], pd.DataFrame(columns=['Buy'], data=y_pred_new_threshold)], axis=1)\n",
    "df_submission['Buy'].value_counts()"
   ]
  },
  {
   "cell_type": "code",
   "execution_count": 22,
   "id": "7eb61c49",
   "metadata": {},
   "outputs": [],
   "source": [
    "#logistic_undersampling with length 4_power_lessfeatures_newthresh\n",
    "df_submission.to_csv('Group17_Version40.csv', index=False)\n",
    "\n",
    "#final score on kaggle: 0.66046 "
   ]
  }
 ],
 "metadata": {
  "kernelspec": {
   "display_name": "Python 3",
   "language": "python",
   "name": "python3"
  },
  "language_info": {
   "codemirror_mode": {
    "name": "ipython",
    "version": 3
   },
   "file_extension": ".py",
   "mimetype": "text/x-python",
   "name": "python",
   "nbconvert_exporter": "python",
   "pygments_lexer": "ipython3",
   "version": "3.8.8"
  }
 },
 "nbformat": 4,
 "nbformat_minor": 5
}
