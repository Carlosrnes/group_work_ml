{
  "cells": [
    {
      "cell_type": "markdown",
      "metadata": {
        "id": "view-in-github",
        "colab_type": "text"
      },
      "source": [
        "<a href=\"https://colab.research.google.com/github/Carlosrnes/group_work_ml/blob/main/Group_ML_Spot_Checking_for_Classification.ipynb\" target=\"_parent\"><img src=\"https://colab.research.google.com/assets/colab-badge.svg\" alt=\"Open In Colab\"/></a>"
      ]
    },
    {
      "cell_type": "code",
      "source": [
        "# load libraries\n",
        "import warnings\n",
        "import pandas as pd\n",
        "import numpy as np\n",
        "from numpy import mean\n",
        "from numpy import std\n",
        "from matplotlib import pyplot\n",
        "from sklearn.datasets import make_classification\n",
        "from sklearn.model_selection import cross_val_score\n",
        "from sklearn.preprocessing import StandardScaler\n",
        "from sklearn.preprocessing import MinMaxScaler\n",
        "from sklearn.model_selection import GridSearchCV\n",
        "from sklearn.model_selection import KFold\n",
        "from sklearn.pipeline import Pipeline\n",
        "from sklearn.linear_model import LogisticRegression\n",
        "from sklearn.linear_model import RidgeClassifier\n",
        "from sklearn.linear_model import SGDClassifier\n",
        "from sklearn.linear_model import PassiveAggressiveClassifier\n",
        "from sklearn.neighbors import KNeighborsClassifier\n",
        "from sklearn.tree import DecisionTreeClassifier\n",
        "from sklearn.tree import ExtraTreeClassifier\n",
        "from sklearn.svm import SVC\n",
        "from sklearn.naive_bayes import GaussianNB\n",
        "from sklearn.ensemble import AdaBoostClassifier\n",
        "from sklearn.ensemble import BaggingClassifier\n",
        "from sklearn.ensemble import RandomForestClassifier\n",
        "from sklearn.ensemble import ExtraTreesClassifier\n",
        "from sklearn.ensemble import GradientBoostingClassifier\n",
        "from sklearn.ensemble import HistGradientBoostingClassifier\n",
        "from sklearn.metrics import f1_score\n",
        "from sklearn.metrics import classification_report\n",
        "from sklearn.metrics import confusion_matrix"
      ],
      "metadata": {
        "id": "QLCe-1GSFyUs"
      },
      "execution_count": 23,
      "outputs": []
    },
    {
      "cell_type": "code",
      "execution_count": 7,
      "metadata": {
        "id": "1W_AIF9Zz-nW",
        "outputId": "cb4b3166-39a4-4284-ec9f-696564087eb1",
        "colab": {
          "base_uri": "https://localhost:8080/",
          "height": 1000
        }
      },
      "outputs": [
        {
          "output_type": "stream",
          "name": "stdout",
          "text": [
            "Defined 35 models\n",
            ">logistic: 0.662 (+/-0.035)\n",
            ">ridge-0.1: 0.667 (+/-0.028)\n",
            ">sgd: 0.601 (+/-0.142)\n",
            ">pa: 0.420 (+/-0.255)\n",
            ">knn-1: 0.556 (+/-0.042)\n",
            ">knn-2: 0.504 (+/-0.038)\n",
            ">knn-3: 0.598 (+/-0.032)\n",
            ">knn-4: 0.570 (+/-0.039)\n",
            ">knn-5: 0.612 (+/-0.039)\n",
            ">knn-6: 0.582 (+/-0.041)\n",
            ">knn-7: 0.610 (+/-0.047)\n",
            ">knn-8: 0.593 (+/-0.038)\n",
            ">knn-9: 0.614 (+/-0.048)\n",
            ">knn-10: 0.603 (+/-0.045)\n",
            ">knn-11: 0.626 (+/-0.038)\n",
            ">knn-12: 0.613 (+/-0.041)\n",
            ">knn-13: 0.630 (+/-0.034)\n",
            ">knn-14: 0.609 (+/-0.034)\n",
            ">knn-15: 0.627 (+/-0.038)\n",
            ">knn-16: 0.617 (+/-0.039)\n",
            ">knn-17: 0.628 (+/-0.044)\n",
            ">knn-18: 0.612 (+/-0.044)\n",
            ">knn-19: 0.631 (+/-0.037)\n",
            ">knn-20: 0.621 (+/-0.039)\n",
            ">cart: 0.580 (+/-0.031)\n",
            ">extra: 0.558 (+/-0.030)\n",
            ">svml: 0.662 (+/-0.025)\n",
            ">svmp: 0.640 (+/-0.037)\n",
            ">svmr0.6: 0.635 (+/-0.037)\n",
            ">bayes: 0.298 (+/-0.003)\n",
            ">ada: 0.614 (+/-0.031)\n",
            ">bag: 0.599 (+/-0.034)\n",
            ">rf: 0.583 (+/-0.047)\n",
            ">et: 0.576 (+/-0.036)\n",
            ">gbm: 0.637 (+/-0.040)\n",
            "\n",
            "Rank=1, Name=ridge-0.1, Score=0.667 (+/- 0.028)\n",
            "Rank=2, Name=svml, Score=0.662 (+/- 0.025)\n",
            "Rank=3, Name=logistic, Score=0.662 (+/- 0.035)\n",
            "Rank=4, Name=svmp, Score=0.640 (+/- 0.037)\n",
            "Rank=5, Name=gbm, Score=0.637 (+/- 0.040)\n",
            "Rank=6, Name=svmr0.6, Score=0.635 (+/- 0.037)\n",
            "Rank=7, Name=knn-19, Score=0.631 (+/- 0.037)\n",
            "Rank=8, Name=knn-13, Score=0.630 (+/- 0.034)\n",
            "Rank=9, Name=knn-17, Score=0.628 (+/- 0.044)\n",
            "Rank=10, Name=knn-15, Score=0.627 (+/- 0.038)\n"
          ]
        },
        {
          "output_type": "display_data",
          "data": {
            "image/png": "[encoded data removed]",
            "text/plain": [
              "<Figure size 432x288 with 1 Axes>"
            ]
          },
          "metadata": {
            "needs_background": "light"
          }
        }
      ],
      "source": [
        "# binary classification spot check script\n",
        "\n",
        "# load the dataset, returns X and y elements\n",
        "def load_dataset():\n",
        "\tX = pd.read_csv('X_train.csv').drop(['Access_ID'], axis=1)\n",
        "\ty = pd.read_csv('y_train.csv')['Buy']\n",
        "\treturn X, y\n",
        "\n",
        "# create a dict of standard models to evaluate {name:object}\n",
        "def define_models(models=dict()):\n",
        "\t# linear models\n",
        "\tmodels['logistic'] = LogisticRegression()\n",
        "\talpha = [0.1] # excluded 0.2, 0.3, 0.4, 0.5, 0.6, 0.7, 0.8, 0.9, 1.0\n",
        "\tfor a in alpha:\n",
        "\t\tmodels['ridge-'+str(a)] = RidgeClassifier(alpha=a)\n",
        "\tmodels['sgd'] = SGDClassifier(max_iter=1000, tol=1e-3)\n",
        "\tmodels['pa'] = PassiveAggressiveClassifier(max_iter=1000, tol=1e-3)\n",
        "\t# non-linear models\n",
        "\tn_neighbors = range(1, 21)\n",
        "\tfor k in n_neighbors:\n",
        "\t\tmodels['knn-'+str(k)] = KNeighborsClassifier(n_neighbors=k)\n",
        "\tmodels['cart'] = DecisionTreeClassifier()\n",
        "\tmodels['extra'] = ExtraTreeClassifier()\n",
        "\tmodels['svml'] = SVC(kernel='linear')\n",
        "\tmodels['svmp'] = SVC(kernel='poly')\n",
        "\tc_values = [0.6] # excluded 0.1, 0.2, 0.3, 0.4, 0.5, , 0.7, 0.8, 0.9, 1.0\n",
        "\tfor c in c_values:\n",
        "\t\tmodels['svmr'+str(c)] = SVC(C=c)\n",
        "\tmodels['bayes'] = GaussianNB()\n",
        "\t# ensemble models\n",
        "\tn_trees = 100\n",
        "\tmodels['ada'] = AdaBoostClassifier(n_estimators=n_trees)\n",
        "\tmodels['bag'] = BaggingClassifier(n_estimators=n_trees)\n",
        "\tmodels['rf'] = RandomForestClassifier(n_estimators=n_trees)\n",
        "\tmodels['et'] = ExtraTreesClassifier(n_estimators=n_trees)\n",
        "\tmodels['gbm'] = GradientBoostingClassifier(n_estimators=n_trees)\n",
        "\tprint('Defined %d models' % len(models))\n",
        "\treturn models\n",
        "\n",
        "# create a feature preparation pipeline for a model\n",
        "def make_pipeline(model):\n",
        "\tsteps = list()\n",
        "\t# standardization\n",
        "\tsteps.append(('standardize', StandardScaler()))\n",
        "\t# normalization\n",
        "\tsteps.append(('normalize', MinMaxScaler()))\n",
        "\t# the model\n",
        "\tsteps.append(('model', model))\n",
        "\t# create pipeline\n",
        "\tpipeline = Pipeline(steps=steps)\n",
        "\treturn pipeline\n",
        "\n",
        "# evaluate a single model\n",
        "def evaluate_model(X, y, model, folds, metric):\n",
        "\t# create the pipeline\n",
        "\tpipeline = make_pipeline(model)\n",
        "\t# evaluate model\n",
        "\tscores = cross_val_score(pipeline, X, y, scoring=metric, cv=folds, n_jobs=-1)\n",
        "\treturn scores\n",
        "\n",
        "# evaluate a model and try to trap errors and and hide warnings\n",
        "def robust_evaluate_model(X, y, model, folds, metric):\n",
        "\tscores = None\n",
        "\ttry:\n",
        "\t\twith warnings.catch_warnings():\n",
        "\t\t\twarnings.filterwarnings(\"ignore\")\n",
        "\t\t\tscores = evaluate_model(X, y, model, folds, metric)\n",
        "\texcept:\n",
        "\t\tscores = None\n",
        "\treturn scores\n",
        "\n",
        "# evaluate a dict of models {name:object}, returns {name:score}\n",
        "def evaluate_models(X, y, models, folds=10, metric='f1'):\n",
        "\tresults = dict()\n",
        "\tfor name, model in models.items():\n",
        "\t\t# evaluate the model\n",
        "\t\tscores = robust_evaluate_model(X, y, model, folds, metric)\n",
        "\t\t# show process\n",
        "\t\tif scores is not None:\n",
        "\t\t\t# store a result\n",
        "\t\t\tresults[name] = scores\n",
        "\t\t\tmean_score, std_score = mean(scores), std(scores)\n",
        "\t\t\tprint('>%s: %.3f (+/-%.3f)' % (name, mean_score, std_score))\n",
        "\t\telse:\n",
        "\t\t\tprint('>%s: error' % name)\n",
        "\treturn results\n",
        "\n",
        "# print and plot the top n results\n",
        "def summarize_results(results, maximize=True, top_n=10):\n",
        "\t# check for no results\n",
        "\tif len(results) == 0:\n",
        "\t\tprint('no results')\n",
        "\t\treturn\n",
        "\t# determine how many results to summarize\n",
        "\tn = min(top_n, len(results))\n",
        "\t# create a list of (name, mean(scores)) tuples\n",
        "\tmean_scores = [(k,mean(v)) for k,v in results.items()]\n",
        "\t# sort tuples by mean score\n",
        "\tmean_scores = sorted(mean_scores, key=lambda x: x[1])\n",
        "\t# reverse for descending order (e.g. for accuracy)\n",
        "\tif maximize:\n",
        "\t\tmean_scores = list(reversed(mean_scores))\n",
        "\t# retrieve the top n for summarization\n",
        "\tnames = [x[0] for x in mean_scores[:n]]\n",
        "\tscores = [results[x[0]] for x in mean_scores[:n]]\n",
        "\t# print the top n\n",
        "\tprint()\n",
        "\tfor i in range(n):\n",
        "\t\tname = names[i]\n",
        "\t\tmean_score, std_score = mean(results[name]), std(results[name])\n",
        "\t\tprint('Rank=%d, Name=%s, Score=%.3f (+/- %.3f)' % (i+1, name, mean_score, std_score))\n",
        "\t# boxplot for the top n\n",
        "\tpyplot.boxplot(scores, labels=names)\n",
        "\t_, labels = pyplot.xticks()\n",
        "\tpyplot.setp(labels, rotation=90)\n",
        "\tpyplot.savefig('spotcheck.png')\n",
        "\n",
        "# load dataset\n",
        "X, y = load_dataset()\n",
        "# get model list\n",
        "models = define_models()\n",
        "# evaluate models\n",
        "results = evaluate_models(X, y, models)\n",
        "# summarize results\n",
        "summarize_results(results)"
      ]
    },
    {
      "cell_type": "code",
      "execution_count": 20,
      "metadata": {
        "id": "X6HjbTWuz-nx",
        "colab": {
          "base_uri": "https://localhost:8080/"
        },
        "outputId": "ef5908e3-67f1-4d87-c113-8ac2733d1211"
      },
      "outputs": [
        {
          "output_type": "stream",
          "name": "stdout",
          "text": [
            "Best: 0.666796 using {'alpha': 1.0}\n",
            "0.666796 (0.027615) with: {'alpha': 1.0}\n",
            "0.666796 (0.027615) with: {'alpha': 0.1}\n",
            "0.666796 (0.027615) with: {'alpha': 0.01}\n",
            "0.666796 (0.027615) with: {'alpha': 0.001}\n",
            "0.666796 (0.027615) with: {'alpha': 0.0001}\n",
            "0.666796 (0.027615) with: {'alpha': 0.0}\n"
          ]
        }
      ],
      "source": [
        "# Tune Ridge\n",
        "alphas = np.array([1,0.1,0.01,0.001,0.0001,0])\n",
        "param_grid = dict(alpha=alphas)\n",
        "model = RidgeClassifier()\n",
        "kfold = KFold(n_splits=10, random_state=7, shuffle=True)\n",
        "grid = GridSearchCV(estimator=model, param_grid=param_grid, scoring='f1', cv=kfold)\n",
        "grid_result = grid.fit(X, y)\n",
        "print(\"Best: %f using %s\" % (grid_result.best_score_, grid_result.best_params_))\n",
        "means = grid_result.cv_results_['mean_test_score']\n",
        "stds = grid_result.cv_results_['std_test_score']\n",
        "params = grid_result.cv_results_['params']\n",
        "for mean, stdev, param in zip(means, stds, params):\n",
        "    print(\"%f (%f) with: %r\" % (mean, stdev, param))"
      ]
    },
    {
      "cell_type": "code",
      "source": [
        "# load validation\n",
        "X_val = pd.read_csv('X_val.csv').drop(['Access_ID'], axis=1)\n",
        "y_val = pd.read_csv('y_val.csv')['Buy']\n",
        "\n",
        "# prepare the model\n",
        "model = RidgeClassifier(alpha=1)\n",
        "model.fit(X, y)\n",
        "# estimate accuracy on validation dataset\n",
        "predictions = model.predict(X_val)\n",
        "print('Accuracy:')\n",
        "print(f1_score(y_val, predictions))\n",
        "print('Confusion Matrix:')\n",
        "print(confusion_matrix(y_val, predictions))\n",
        "print('Classification Report:')\n",
        "print(classification_report(y_val, predictions))"
      ],
      "metadata": {
        "colab": {
          "base_uri": "https://localhost:8080/"
        },
        "id": "l31PFI0mG5HH",
        "outputId": "ee9a1eac-d0b2-4108-dea1-0a64feeca6d8"
      },
      "execution_count": 25,
      "outputs": [
        {
          "output_type": "stream",
          "name": "stdout",
          "text": [
            "Accuracy:\n",
            "0.641291810841984\n",
            "Confusion Matrix:\n",
            "[[1911  201]\n",
            " [ 110  278]]\n",
            "Classification Report:\n",
            "              precision    recall  f1-score   support\n",
            "\n",
            "           0       0.95      0.90      0.92      2112\n",
            "           1       0.58      0.72      0.64       388\n",
            "\n",
            "    accuracy                           0.88      2500\n",
            "   macro avg       0.76      0.81      0.78      2500\n",
            "weighted avg       0.89      0.88      0.88      2500\n",
            "\n"
          ]
        }
      ]
    }
  ],
  "metadata": {
    "kernelspec": {
      "display_name": "Python 3",
      "language": "python",
      "name": "python3"
    },
    "language_info": {
      "codemirror_mode": {
        "name": "ipython",
        "version": 3
      },
      "file_extension": ".py",
      "mimetype": "text/x-python",
      "name": "python",
      "nbconvert_exporter": "python",
      "pygments_lexer": "ipython3",
      "version": "3.6.5"
    },
    "colab": {
      "name": "Group_ML Spot-Checking for Classification.ipynb",
      "provenance": [],
      "include_colab_link": true
    }
  },
  "nbformat": 4,
  "nbformat_minor": 0
}