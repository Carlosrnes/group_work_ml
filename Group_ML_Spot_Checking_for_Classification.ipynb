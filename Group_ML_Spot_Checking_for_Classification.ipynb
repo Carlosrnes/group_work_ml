{
  "cells": [
    {
      "cell_type": "markdown",
      "metadata": {
        "id": "view-in-github",
        "colab_type": "text"
      },
      "source": [
        "<a href=\"https://colab.research.google.com/github/Carlosrnes/group_work_ml/blob/main/Group_ML_Spot_Checking_for_Classification.ipynb\" target=\"_parent\"><img src=\"https://colab.research.google.com/assets/colab-badge.svg\" alt=\"Open In Colab\"/></a>"
      ]
    },
    {
      "cell_type": "code",
      "execution_count": 1,
      "metadata": {
        "id": "QLCe-1GSFyUs"
      },
      "outputs": [],
      "source": [
        "# load libraries\n",
        "import warnings\n",
        "import pandas as pd\n",
        "import numpy as np\n",
        "from numpy import mean\n",
        "from numpy import std\n",
        "from matplotlib import pyplot\n",
        "from sklearn.datasets import make_classification\n",
        "from sklearn.model_selection import cross_val_score\n",
        "from sklearn.preprocessing import StandardScaler\n",
        "from sklearn.preprocessing import MinMaxScaler\n",
        "from sklearn.model_selection import GridSearchCV\n",
        "from sklearn.model_selection import KFold\n",
        "from sklearn.pipeline import Pipeline\n",
        "from sklearn.linear_model import LogisticRegression\n",
        "from sklearn.linear_model import RidgeClassifier\n",
        "from sklearn.linear_model import SGDClassifier\n",
        "from sklearn.linear_model import PassiveAggressiveClassifier\n",
        "from sklearn.neighbors import KNeighborsClassifier\n",
        "from sklearn.tree import DecisionTreeClassifier\n",
        "from sklearn.tree import ExtraTreeClassifier\n",
        "from sklearn.svm import SVC\n",
        "from sklearn.naive_bayes import GaussianNB\n",
        "from sklearn.ensemble import AdaBoostClassifier\n",
        "from sklearn.ensemble import BaggingClassifier\n",
        "from sklearn.ensemble import RandomForestClassifier\n",
        "from sklearn.ensemble import ExtraTreesClassifier\n",
        "from sklearn.ensemble import GradientBoostingClassifier\n",
        "from sklearn.ensemble import HistGradientBoostingClassifier\n",
        "from sklearn.metrics import f1_score\n",
        "from sklearn.metrics import classification_report\n",
        "from sklearn.metrics import confusion_matrix"
      ]
    },
    {
      "cell_type": "code",
      "execution_count": 5,
      "metadata": {
        "colab": {
          "base_uri": "https://localhost:8080/",
          "height": 930
        },
        "id": "1W_AIF9Zz-nW",
        "outputId": "ee5aed4a-5249-4da6-99ab-7ee87e0e7d2e"
      },
      "outputs": [
        {
          "output_type": "stream",
          "name": "stdout",
          "text": [
            "Defined 16 models\n",
            ">Logistic: 0.665 (+/-0.025)\n",
            ">Ridge-0.1: 0.667 (+/-0.028)\n",
            ">SGD: 0.559 (+/-0.135)\n",
            ">Passive Aggressive: 0.525 (+/-0.219)\n",
            ">KNN-13: 0.625 (+/-0.033)\n",
            ">Decision Tree: 0.649 (+/-0.028)\n",
            ">Extra Tree: 0.583 (+/-0.029)\n",
            ">SVM-linear: 0.657 (+/-0.025)\n",
            ">SVM-poly: 0.638 (+/-0.038)\n",
            ">SVMr0.6: 0.625 (+/-0.040)\n",
            ">Bayes: 0.576 (+/-0.020)\n",
            ">Ada: 0.614 (+/-0.031)\n",
            ">Bagging: 0.594 (+/-0.034)\n",
            ">Random Forest: 0.665 (+/-0.021)\n",
            ">Extra Trees: 0.582 (+/-0.035)\n",
            ">GBoost: 0.637 (+/-0.040)\n",
            "\n",
            "Rank=1, Name=Ridge-0.1, Score=0.667 (+/- 0.028)\n",
            "Rank=2, Name=Logistic, Score=0.665 (+/- 0.025)\n",
            "Rank=3, Name=Random Forest, Score=0.665 (+/- 0.021)\n",
            "Rank=4, Name=SVM-linear, Score=0.657 (+/- 0.025)\n",
            "Rank=5, Name=Decision Tree, Score=0.649 (+/- 0.028)\n",
            "Rank=6, Name=SVM-poly, Score=0.638 (+/- 0.038)\n",
            "Rank=7, Name=GBoost, Score=0.637 (+/- 0.040)\n",
            "Rank=8, Name=KNN-13, Score=0.625 (+/- 0.033)\n",
            "Rank=9, Name=SVMr0.6, Score=0.625 (+/- 0.040)\n",
            "Rank=10, Name=Ada, Score=0.614 (+/- 0.031)\n",
            "Rank=11, Name=Bagging, Score=0.594 (+/- 0.034)\n",
            "Rank=12, Name=Extra Tree, Score=0.583 (+/- 0.029)\n",
            "Rank=13, Name=Extra Trees, Score=0.582 (+/- 0.035)\n",
            "Rank=14, Name=Bayes, Score=0.576 (+/- 0.020)\n",
            "Rank=15, Name=SGD, Score=0.559 (+/- 0.135)\n",
            "Rank=16, Name=Passive Aggressive, Score=0.525 (+/- 0.219)\n"
          ]
        },
        {
          "output_type": "display_data",
          "data": {
            "image/png": "[encoded data removed]",
            "text/plain": [
              "<Figure size 432x288 with 1 Axes>"
            ]
          },
          "metadata": {
            "needs_background": "light"
          }
        }
      ],
      "source": [
        "# binary classification spot check script\n",
        "\n",
        "# load the dataset, returns X and y elements\n",
        "def load_dataset():\n",
        "\tX = pd.read_csv('X_train.csv').drop(['Access_ID'], axis=1)\n",
        "\ty = pd.read_csv('y_train.csv')['Buy']\n",
        "\treturn X, y\n",
        "\n",
        "# create a dict of standard models to evaluate {name:object}\n",
        "def define_models(models=dict()):\n",
        "\t# linear models\n",
        "\tmodels['Logistic'] = LogisticRegression(class_weight='balanced', random_state=7)\n",
        "\talpha = [0.1] # excluded 0.2, 0.3, 0.4, 0.5, 0.6, 0.7, 0.8, 0.9, 1.0\n",
        "\tfor a in alpha:\n",
        "\t\tmodels['Ridge-'+str(a)] = RidgeClassifier(alpha=a, random_state=7)\n",
        "\tmodels['SGD'] = SGDClassifier(max_iter=1000, tol=1e-3, random_state=7)\n",
        "\tmodels['Passive Aggressive'] = PassiveAggressiveClassifier(max_iter=1000, tol=1e-3, random_state=7)\n",
        "\t# non-linear models\n",
        "\t#n_neighbors = 13\n",
        "\t#for k in n_neighbors:\n",
        "\tk=13\n",
        "\tmodels['KNN-'+str(k)] = KNeighborsClassifier(n_neighbors=k)\n",
        "\tmodels['Decision Tree'] = DecisionTreeClassifier(max_depth = 6, class_weight='balanced', random_state=7)\n",
        "\tmodels['Extra Tree'] = ExtraTreeClassifier( random_state=7)\n",
        "\tmodels['SVM-linear'] = SVC(kernel='linear', random_state=7)\n",
        "\tmodels['SVM-poly'] = SVC(kernel='poly', random_state=7)\n",
        "\tc_values = [0.6] # excluded 0.1, 0.2, 0.3, 0.4, 0.5, , 0.7, 0.8, 0.9, 1.0\n",
        "\tfor c in c_values:\n",
        "\t\tmodels['SVMr'+str(c)] = SVC(C=c, random_state=7)\n",
        "\tmodels['Bayes'] = GaussianNB(var_smoothing=0.0001)\n",
        "\t# ensemble models\n",
        "\tn_trees = 100\n",
        "\tmodels['Ada'] = AdaBoostClassifier(n_estimators=n_trees, random_state=7)\n",
        "\tmodels['Bagging'] = BaggingClassifier(n_estimators=n_trees, random_state=7)\n",
        "\tmodels['Random Forest'] = RandomForestClassifier(max_depth = 6, class_weight='balanced', random_state=7)\n",
        "\tmodels['Extra Trees'] = ExtraTreesClassifier(n_estimators=n_trees, random_state=7)\n",
        "\tmodels['GBoost'] = GradientBoostingClassifier(n_estimators=n_trees, random_state=7)\n",
        "\tprint('Defined %d models' % len(models))\n",
        "\treturn models\n",
        "\n",
        "# create a feature preparation pipeline for a model\n",
        "def make_pipeline(model):\n",
        "\tsteps = list()\n",
        "\t# the model\n",
        "\tsteps.append(('model', model))\n",
        "\t# create pipeline\n",
        "\tpipeline = Pipeline(steps=steps)\n",
        "\treturn pipeline\n",
        "\n",
        "# evaluate a single model\n",
        "def evaluate_model(X, y, model, folds, metric):\n",
        "\t# create the pipeline\n",
        "\tpipeline = make_pipeline(model)\n",
        "\t# evaluate model\n",
        "\tscores = cross_val_score(pipeline, X, y, scoring=metric, cv=folds, n_jobs=-1)\n",
        "\treturn scores\n",
        "\n",
        "# evaluate a model and try to trap errors and and hide warnings\n",
        "def robust_evaluate_model(X, y, model, folds, metric):\n",
        "\tscores = None\n",
        "\ttry:\n",
        "\t\twith warnings.catch_warnings():\n",
        "\t\t\twarnings.filterwarnings(\"ignore\")\n",
        "\t\t\tscores = evaluate_model(X, y, model, folds, metric)\n",
        "\texcept:\n",
        "\t\tscores = None\n",
        "\treturn scores\n",
        "\n",
        "# evaluate a dict of models {name:object}, returns {name:score}\n",
        "def evaluate_models(X, y, models, folds=10, metric='f1'):\n",
        "\tresults = dict()\n",
        "\tfor name, model in models.items():\n",
        "\t\t# evaluate the model\n",
        "\t\tscores = robust_evaluate_model(X, y, model, folds, metric)\n",
        "\t\t# show process\n",
        "\t\tif scores is not None:\n",
        "\t\t\t# store a result\n",
        "\t\t\tresults[name] = scores\n",
        "\t\t\tmean_score, std_score = mean(scores), std(scores)\n",
        "\t\t\tprint('>%s: %.3f (+/-%.3f)' % (name, mean_score, std_score))\n",
        "\t\telse:\n",
        "\t\t\tprint('>%s: error' % name)\n",
        "\treturn results\n",
        "\n",
        "# print and plot the top n results\n",
        "def summarize_results(results, maximize=True, top_n=16):\n",
        "\t# check for no results\n",
        "\tif len(results) == 0:\n",
        "\t\tprint('no results')\n",
        "\t\treturn\n",
        "\t# determine how many results to summarize\n",
        "\tn = min(top_n, len(results))\n",
        "\t# create a list of (name, mean(scores)) tuples\n",
        "\tmean_scores = [(k,mean(v)) for k,v in results.items()]\n",
        "\t# sort tuples by mean score\n",
        "\tmean_scores = sorted(mean_scores, key=lambda x: x[1])\n",
        "\t# reverse for descending order (e.g. for accuracy)\n",
        "\tif maximize:\n",
        "\t\tmean_scores = list(reversed(mean_scores))\n",
        "\t# retrieve the top n for summarization\n",
        "\tnames = [x[0] for x in mean_scores[:n]]\n",
        "\tscores = [results[x[0]] for x in mean_scores[:n]]\n",
        "\t# print the top n\n",
        "\tprint()\n",
        "\tfor i in range(n):\n",
        "\t\tname = names[i]\n",
        "\t\tmean_score, std_score = mean(results[name]), std(results[name])\n",
        "\t\tprint('Rank=%d, Name=%s, Score=%.3f (+/- %.3f)' % (i+1, name, mean_score, std_score))\n",
        "\t# boxplot for the top n\n",
        "\tpyplot.boxplot(scores, labels=names)\n",
        "\t_, labels = pyplot.xticks()\n",
        "\tpyplot.setp(labels, rotation=90)\n",
        "\tpyplot.savefig('spotcheck.png')\n",
        "\n",
        "# load dataset\n",
        "X, y = load_dataset()\n",
        "# get model list\n",
        "models = define_models()\n",
        "# evaluate models\n",
        "results = evaluate_models(X, y, models)\n",
        "# summarize results\n",
        "summarize_results(results)"
      ]
    },
    {
      "cell_type": "code",
      "execution_count": null,
      "metadata": {
        "colab": {
          "base_uri": "https://localhost:8080/"
        },
        "id": "X6HjbTWuz-nx",
        "outputId": "50397e47-6c88-4804-b30e-8bb479ac01ae"
      },
      "outputs": [
        {
          "name": "stdout",
          "output_type": "stream",
          "text": [
            "Best: 0.666796 using {'alpha': 1.0}\n",
            "0.666796 (0.027615) with: {'alpha': 1.0}\n",
            "0.666796 (0.027615) with: {'alpha': 0.1}\n",
            "0.666796 (0.027615) with: {'alpha': 0.01}\n",
            "0.666796 (0.027615) with: {'alpha': 0.001}\n",
            "0.666796 (0.027615) with: {'alpha': 0.0001}\n",
            "0.666796 (0.027615) with: {'alpha': 0.0}\n"
          ]
        }
      ],
      "source": [
        "# Tune Ridge\n",
        "alphas = np.array([1,0.1,0.01,0.001,0.0001,0])\n",
        "param_grid = dict(alpha=alphas)\n",
        "model = RidgeClassifier()\n",
        "kfold = KFold(n_splits=10, random_state=7, shuffle=True)\n",
        "grid = GridSearchCV(estimator=model, param_grid=param_grid, scoring='f1', cv=kfold)\n",
        "grid_result = grid.fit(X, y)\n",
        "print(\"Best: %f using %s\" % (grid_result.best_score_, grid_result.best_params_))\n",
        "means = grid_result.cv_results_['mean_test_score']\n",
        "stds = grid_result.cv_results_['std_test_score']\n",
        "params = grid_result.cv_results_['params']\n",
        "for mean, stdev, param in zip(means, stds, params):\n",
        "    print(\"%f (%f) with: %r\" % (mean, stdev, param))"
      ]
    },
    {
      "cell_type": "code",
      "execution_count": null,
      "metadata": {
        "colab": {
          "base_uri": "https://localhost:8080/"
        },
        "id": "l31PFI0mG5HH",
        "outputId": "ec74e8b7-8fcf-469f-b66c-887b0cba2708"
      },
      "outputs": [
        {
          "name": "stdout",
          "output_type": "stream",
          "text": [
            "f1_score:\n",
            "0.641291810841984\n",
            "Confusion Matrix:\n",
            "[[1911  201]\n",
            " [ 110  278]]\n",
            "Classification Report:\n",
            "              precision    recall  f1-score   support\n",
            "\n",
            "           0       0.95      0.90      0.92      2112\n",
            "           1       0.58      0.72      0.64       388\n",
            "\n",
            "    accuracy                           0.88      2500\n",
            "   macro avg       0.76      0.81      0.78      2500\n",
            "weighted avg       0.89      0.88      0.88      2500\n",
            "\n"
          ]
        }
      ],
      "source": [
        "# load validation\n",
        "X_val = pd.read_csv('X_val.csv').drop(['Access_ID'], axis=1)\n",
        "y_val = pd.read_csv('y_val.csv')['Buy']\n",
        "\n",
        "# prepare the model\n",
        "model = RidgeClassifier(alpha=1)\n",
        "model.fit(X, y)\n",
        "# estimate accuracy on validation dataset\n",
        "predictions = model.predict(X_val)\n",
        "print('f1_score:')\n",
        "print(f1_score(y_val, predictions))\n",
        "print('Confusion Matrix:')\n",
        "print(confusion_matrix(y_val, predictions))\n",
        "print('Classification Report:')\n",
        "print(classification_report(y_val, predictions))"
      ]
    }
  ],
  "metadata": {
    "colab": {
      "name": "Group_ML Spot-Checking for Classification.ipynb",
      "provenance": [],
      "include_colab_link": true
    },
    "kernelspec": {
      "display_name": "Python 3",
      "language": "python",
      "name": "python3"
    },
    "language_info": {
      "codemirror_mode": {
        "name": "ipython",
        "version": 3
      },
      "file_extension": ".py",
      "mimetype": "text/x-python",
      "name": "python",
      "nbconvert_exporter": "python",
      "pygments_lexer": "ipython3",
      "version": "3.6.5"
    }
  },
  "nbformat": 4,
  "nbformat_minor": 0
}